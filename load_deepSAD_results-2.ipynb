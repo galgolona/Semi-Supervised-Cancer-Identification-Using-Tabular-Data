{
 "cells": [
  {
   "cell_type": "code",
   "execution_count": 14,
   "id": "5544e08b",
   "metadata": {},
   "outputs": [],
   "source": [
    "import pandas as pd\n",
    "import numpy as np\n",
    "import scipy\n",
    "import json\n",
    "import os.path\n",
    "import matplotlib.pyplot as plt\n",
    "import scipy.stats as stats"
   ]
  },
  {
   "cell_type": "code",
   "execution_count": 18,
   "id": "8c07c546",
   "metadata": {},
   "outputs": [],
   "source": [
    "file_path = '/Users/glrz/Desktop/Thesis/src/log/DeepSAD/cancer_test/'"
   ]
  },
  {
   "cell_type": "markdown",
   "id": "4fde22d8",
   "metadata": {},
   "source": [
    "# simulation of proportion of semi data split"
   ]
  },
  {
   "cell_type": "code",
   "execution_count": 19,
   "id": "d21f1695",
   "metadata": {},
   "outputs": [],
   "source": [
    "simulation = 'method 3 proportion unlabeled labeled/'"
   ]
  },
  {
   "cell_type": "code",
   "execution_count": 20,
   "id": "e630aff5",
   "metadata": {},
   "outputs": [],
   "source": [
    "experiments = ['5_per_labeled_0_unlabeled_method_3','10_per_labeled_0_unlabeled_method_3','25_per_labeled_0_unlabeled_method_3','25_per_labeled_75_unlabeled_method_3','100_per_labeled_0_unlabeled_method_3']"
   ]
  },
  {
   "cell_type": "code",
   "execution_count": 21,
   "id": "d8985aa7",
   "metadata": {},
   "outputs": [],
   "source": [
    "#all data train, test and validation\n",
    "df_auc_proportion = pd.DataFrame(index=np.arange(10))\n",
    "for i in range(len(experiments)):\n",
    "    exact_path = file_path + simulation + experiments[i] + '/results.json'\n",
    "    file1 = open(exact_path, 'r')\n",
    "    Lines = file1.readlines()\n",
    "    arr = Lines[0].split('}')\n",
    "    dict_auc = {'train_auc_' + experiments[i]:[],\n",
    "            'validation_auc_' + experiments[i]:[],\n",
    "            'test_auc_' + experiments[i]:[]\n",
    "            }\n",
    "    for line in arr:\n",
    "        split_lines = line.split(', ')\n",
    "        for sl in split_lines:\n",
    "            if 'train_auc' in sl:\n",
    "                dict_auc['train_auc_' + experiments[i]].append(float(sl.split(': ')[1]))\n",
    "            if 'validation_auc' in sl:\n",
    "                dict_auc['validation_auc_' + experiments[i]].append(float(sl.split(': ')[1]))\n",
    "            if 'test_auc' in sl:\n",
    "                dict_auc['test_auc_' + experiments[i]].append(float(sl.split(': ')[1]))            \n",
    "    file1.close()\n",
    "    df_auc = pd.DataFrame(dict_auc)\n",
    "    df_auc_proportion = df_auc_proportion.join(df_auc)\n"
   ]
  },
  {
   "cell_type": "code",
   "execution_count": 22,
   "id": "7e9029fd",
   "metadata": {},
   "outputs": [
    {
     "data": {
      "text/plain": [
       "train_auc_5_per_labeled_0_unlabeled_method_3           0.005354\n",
       "validation_auc_5_per_labeled_0_unlabeled_method_3      0.002478\n",
       "test_auc_5_per_labeled_0_unlabeled_method_3            0.002832\n",
       "train_auc_10_per_labeled_0_unlabeled_method_3          0.002819\n",
       "validation_auc_10_per_labeled_0_unlabeled_method_3     0.002164\n",
       "test_auc_10_per_labeled_0_unlabeled_method_3           0.002465\n",
       "train_auc_25_per_labeled_0_unlabeled_method_3          0.002846\n",
       "validation_auc_25_per_labeled_0_unlabeled_method_3     0.002072\n",
       "test_auc_25_per_labeled_0_unlabeled_method_3           0.002738\n",
       "train_auc_25_per_labeled_75_unlabeled_method_3         0.001563\n",
       "validation_auc_25_per_labeled_75_unlabeled_method_3    0.001363\n",
       "test_auc_25_per_labeled_75_unlabeled_method_3          0.001423\n",
       "train_auc_100_per_labeled_0_unlabeled_method_3         0.000331\n",
       "validation_auc_100_per_labeled_0_unlabeled_method_3    0.001661\n",
       "test_auc_100_per_labeled_0_unlabeled_method_3          0.001351\n",
       "dtype: float64"
      ]
     },
     "execution_count": 22,
     "metadata": {},
     "output_type": "execute_result"
    }
   ],
   "source": [
    "#df_auc_proportion.mean(axis=0)\n",
    "df_auc_proportion.std(axis=0)"
   ]
  },
  {
   "cell_type": "code",
   "execution_count": 23,
   "id": "4a452fd5",
   "metadata": {},
   "outputs": [
    {
     "data": {
      "text/html": [
       "<div>\n",
       "<style scoped>\n",
       "    .dataframe tbody tr th:only-of-type {\n",
       "        vertical-align: middle;\n",
       "    }\n",
       "\n",
       "    .dataframe tbody tr th {\n",
       "        vertical-align: top;\n",
       "    }\n",
       "\n",
       "    .dataframe thead th {\n",
       "        text-align: right;\n",
       "    }\n",
       "</style>\n",
       "<table border=\"1\" class=\"dataframe\">\n",
       "  <thead>\n",
       "    <tr style=\"text-align: right;\">\n",
       "      <th></th>\n",
       "      <th>validation_auc_5_per_labeled_0_unlabeled_method_3</th>\n",
       "      <th>validation_auc_10_per_labeled_0_unlabeled_method_3</th>\n",
       "      <th>validation_auc_25_per_labeled_0_unlabeled_method_3</th>\n",
       "      <th>validation_auc_25_per_labeled_75_unlabeled_method_3</th>\n",
       "      <th>validation_auc_100_per_labeled_0_unlabeled_method_3</th>\n",
       "    </tr>\n",
       "  </thead>\n",
       "  <tbody>\n",
       "    <tr>\n",
       "      <th>0</th>\n",
       "      <td>0.862569</td>\n",
       "      <td>0.866920</td>\n",
       "      <td>0.882306</td>\n",
       "      <td>0.881503</td>\n",
       "      <td>0.884935</td>\n",
       "    </tr>\n",
       "    <tr>\n",
       "      <th>1</th>\n",
       "      <td>0.865015</td>\n",
       "      <td>0.872005</td>\n",
       "      <td>0.876936</td>\n",
       "      <td>0.879881</td>\n",
       "      <td>0.888171</td>\n",
       "    </tr>\n",
       "    <tr>\n",
       "      <th>2</th>\n",
       "      <td>0.860698</td>\n",
       "      <td>0.871004</td>\n",
       "      <td>0.878762</td>\n",
       "      <td>0.881390</td>\n",
       "      <td>0.889293</td>\n",
       "    </tr>\n",
       "    <tr>\n",
       "      <th>3</th>\n",
       "      <td>0.862189</td>\n",
       "      <td>0.869830</td>\n",
       "      <td>0.876874</td>\n",
       "      <td>0.882307</td>\n",
       "      <td>0.886846</td>\n",
       "    </tr>\n",
       "    <tr>\n",
       "      <th>4</th>\n",
       "      <td>0.869711</td>\n",
       "      <td>0.871890</td>\n",
       "      <td>0.877661</td>\n",
       "      <td>0.883690</td>\n",
       "      <td>0.889447</td>\n",
       "    </tr>\n",
       "    <tr>\n",
       "      <th>5</th>\n",
       "      <td>0.863988</td>\n",
       "      <td>0.868263</td>\n",
       "      <td>0.878868</td>\n",
       "      <td>0.883250</td>\n",
       "      <td>0.886964</td>\n",
       "    </tr>\n",
       "    <tr>\n",
       "      <th>6</th>\n",
       "      <td>0.863233</td>\n",
       "      <td>0.870771</td>\n",
       "      <td>0.879246</td>\n",
       "      <td>0.881314</td>\n",
       "      <td>0.886918</td>\n",
       "    </tr>\n",
       "    <tr>\n",
       "      <th>7</th>\n",
       "      <td>0.861892</td>\n",
       "      <td>0.866745</td>\n",
       "      <td>0.878998</td>\n",
       "      <td>0.879357</td>\n",
       "      <td>0.885059</td>\n",
       "    </tr>\n",
       "    <tr>\n",
       "      <th>8</th>\n",
       "      <td>0.863142</td>\n",
       "      <td>0.872484</td>\n",
       "      <td>0.882952</td>\n",
       "      <td>0.882376</td>\n",
       "      <td>0.889057</td>\n",
       "    </tr>\n",
       "    <tr>\n",
       "      <th>9</th>\n",
       "      <td>0.864665</td>\n",
       "      <td>0.867978</td>\n",
       "      <td>0.877823</td>\n",
       "      <td>0.882376</td>\n",
       "      <td>0.886147</td>\n",
       "    </tr>\n",
       "  </tbody>\n",
       "</table>\n",
       "</div>"
      ],
      "text/plain": [
       "   validation_auc_5_per_labeled_0_unlabeled_method_3  \\\n",
       "0                                           0.862569   \n",
       "1                                           0.865015   \n",
       "2                                           0.860698   \n",
       "3                                           0.862189   \n",
       "4                                           0.869711   \n",
       "5                                           0.863988   \n",
       "6                                           0.863233   \n",
       "7                                           0.861892   \n",
       "8                                           0.863142   \n",
       "9                                           0.864665   \n",
       "\n",
       "   validation_auc_10_per_labeled_0_unlabeled_method_3  \\\n",
       "0                                           0.866920    \n",
       "1                                           0.872005    \n",
       "2                                           0.871004    \n",
       "3                                           0.869830    \n",
       "4                                           0.871890    \n",
       "5                                           0.868263    \n",
       "6                                           0.870771    \n",
       "7                                           0.866745    \n",
       "8                                           0.872484    \n",
       "9                                           0.867978    \n",
       "\n",
       "   validation_auc_25_per_labeled_0_unlabeled_method_3  \\\n",
       "0                                           0.882306    \n",
       "1                                           0.876936    \n",
       "2                                           0.878762    \n",
       "3                                           0.876874    \n",
       "4                                           0.877661    \n",
       "5                                           0.878868    \n",
       "6                                           0.879246    \n",
       "7                                           0.878998    \n",
       "8                                           0.882952    \n",
       "9                                           0.877823    \n",
       "\n",
       "   validation_auc_25_per_labeled_75_unlabeled_method_3  \\\n",
       "0                                           0.881503     \n",
       "1                                           0.879881     \n",
       "2                                           0.881390     \n",
       "3                                           0.882307     \n",
       "4                                           0.883690     \n",
       "5                                           0.883250     \n",
       "6                                           0.881314     \n",
       "7                                           0.879357     \n",
       "8                                           0.882376     \n",
       "9                                           0.882376     \n",
       "\n",
       "   validation_auc_100_per_labeled_0_unlabeled_method_3  \n",
       "0                                           0.884935    \n",
       "1                                           0.888171    \n",
       "2                                           0.889293    \n",
       "3                                           0.886846    \n",
       "4                                           0.889447    \n",
       "5                                           0.886964    \n",
       "6                                           0.886918    \n",
       "7                                           0.885059    \n",
       "8                                           0.889057    \n",
       "9                                           0.886147    "
      ]
     },
     "execution_count": 23,
     "metadata": {},
     "output_type": "execute_result"
    }
   ],
   "source": [
    "# only test results\n",
    "df_auc_proportion_test = pd.DataFrame(index=np.arange(10))\n",
    "for i in range(len(experiments)):\n",
    "    exact_path = file_path + simulation + experiments[i] + '/results.json'\n",
    "    file1 = open(exact_path, 'r')\n",
    "    Lines = file1.readlines()\n",
    "    arr = Lines[0].split('}')\n",
    "    dict_auc = {\n",
    "            'validation_auc_' + experiments[i]:[]\n",
    "            }\n",
    "    for line in arr:\n",
    "        split_lines = line.split(', ')\n",
    "        for sl in split_lines:\n",
    "            if 'validation_auc' in sl:\n",
    "                dict_auc['validation_auc_' + experiments[i]].append(float(sl.split(': ')[1]))         \n",
    "    file1.close()\n",
    "    df_auc = pd.DataFrame(dict_auc)\n",
    "    df_auc_proportion_test = df_auc_proportion_test.join(df_auc)\n",
    "df_auc_proportion_test"
   ]
  },
  {
   "cell_type": "code",
   "execution_count": 57,
   "id": "45f99bc7",
   "metadata": {},
   "outputs": [
    {
     "data": {
      "text/plain": [
       "{'whiskers': [<matplotlib.lines.Line2D at 0x1376e70d0>,\n",
       "  <matplotlib.lines.Line2D at 0x1376e7370>,\n",
       "  <matplotlib.lines.Line2D at 0x1376f6190>,\n",
       "  <matplotlib.lines.Line2D at 0x1376f6430>,\n",
       "  <matplotlib.lines.Line2D at 0x137900430>,\n",
       "  <matplotlib.lines.Line2D at 0x1379006d0>,\n",
       "  <matplotlib.lines.Line2D at 0x13761abe0>,\n",
       "  <matplotlib.lines.Line2D at 0x13761ad60>,\n",
       "  <matplotlib.lines.Line2D at 0x137607880>,\n",
       "  <matplotlib.lines.Line2D at 0x13790e370>],\n",
       " 'caps': [<matplotlib.lines.Line2D at 0x1376e7610>,\n",
       "  <matplotlib.lines.Line2D at 0x1375f8ac0>,\n",
       "  <matplotlib.lines.Line2D at 0x1376f66d0>,\n",
       "  <matplotlib.lines.Line2D at 0x1376f6970>,\n",
       "  <matplotlib.lines.Line2D at 0x137900970>,\n",
       "  <matplotlib.lines.Line2D at 0x137900c10>,\n",
       "  <matplotlib.lines.Line2D at 0x13761a340>,\n",
       "  <matplotlib.lines.Line2D at 0x13761a6a0>,\n",
       "  <matplotlib.lines.Line2D at 0x13790e610>,\n",
       "  <matplotlib.lines.Line2D at 0x13790e8b0>],\n",
       " 'boxes': [<matplotlib.lines.Line2D at 0x1375fc2e0>,\n",
       "  <matplotlib.lines.Line2D at 0x1376e7eb0>,\n",
       "  <matplotlib.lines.Line2D at 0x137900190>,\n",
       "  <matplotlib.lines.Line2D at 0x1376d0430>,\n",
       "  <matplotlib.lines.Line2D at 0x137669520>],\n",
       " 'medians': [<matplotlib.lines.Line2D at 0x1376e7970>,\n",
       "  <matplotlib.lines.Line2D at 0x1376f6c10>,\n",
       "  <matplotlib.lines.Line2D at 0x137900eb0>,\n",
       "  <matplotlib.lines.Line2D at 0x137669a30>,\n",
       "  <matplotlib.lines.Line2D at 0x13790eb50>],\n",
       " 'fliers': [<matplotlib.lines.Line2D at 0x1376e7c10>,\n",
       "  <matplotlib.lines.Line2D at 0x1376f6eb0>,\n",
       "  <matplotlib.lines.Line2D at 0x13790e190>,\n",
       "  <matplotlib.lines.Line2D at 0x137669970>,\n",
       "  <matplotlib.lines.Line2D at 0x13790edf0>],\n",
       " 'means': []}"
      ]
     },
     "execution_count": 57,
     "metadata": {},
     "output_type": "execute_result"
    },
    {
     "data": {
      "image/png": "[encoded data removed]",
      "text/plain": [
       "<Figure size 640x480 with 1 Axes>"
      ]
     },
     "metadata": {},
     "output_type": "display_data"
    }
   ],
   "source": [
    "fig1, ax1 = plt.subplots()\n",
    "ax1.set_title('Test AUC of proportion of unlabeled and labeled')\n",
    "ax1.boxplot(df_auc_proportion_test)"
   ]
  },
  {
   "cell_type": "code",
   "execution_count": 31,
   "id": "f0c2c1dc",
   "metadata": {},
   "outputs": [
    {
     "name": "stdout",
     "output_type": "stream",
     "text": [
      "WilcoxonResult(statistic=0.0, pvalue=0.001953125)\n",
      "WilcoxonResult(statistic=5.0, pvalue=0.01953125)\n",
      "WilcoxonResult(statistic=0.0, pvalue=0.001953125)\n",
      "WilcoxonResult(statistic=0.0, pvalue=0.001953125)\n"
     ]
    }
   ],
   "source": [
    "#Wilcoxon signed-rank tests (Wilcoxon, 1945) applied to the first and second best performing method \n",
    "#to indicate statistically significant (α = 0.05) differences in performance\n",
    "\n",
    " \n",
    "\n",
    "group2 = df_auc_proportion_test['validation_auc_100_per_labeled_0_unlabeled_method_3']\n",
    "group3 = df_auc_proportion_test['validation_auc_25_per_labeled_75_unlabeled_method_3']\n",
    "group4 = df_auc_proportion_test['validation_auc_25_per_labeled_0_unlabeled_method_3']\n",
    "group5 = df_auc_proportion_test['validation_auc_10_per_labeled_0_unlabeled_method_3']\n",
    "group6 = df_auc_proportion_test['validation_auc_5_per_labeled_0_unlabeled_method_3']\n",
    " \n",
    "# conduct the Wilcoxon-Signed Rank Test\n",
    "print(stats.wilcoxon(group2, group3))\n",
    "print(stats.wilcoxon(group3, group4))\n",
    "print(stats.wilcoxon(group4, group5))\n",
    "print(stats.wilcoxon(group2, group3))"
   ]
  },
  {
   "cell_type": "markdown",
   "id": "f72fc104",
   "metadata": {},
   "source": [
    "# simulation of active samples selection"
   ]
  },
  {
   "cell_type": "code",
   "execution_count": 37,
   "id": "bf63c16f",
   "metadata": {},
   "outputs": [],
   "source": [
    "simulation = 'k means experiment/'\n",
    "experiments = ['1k_points_random_method_1','1k_points_by_5_k_means_method_2','1k_points_by_10_k_means_method_2','1k_points_by_20_k_means_method_2']\n",
    "#['10k_points_random_method_1','10k_points_by_5_k_means_method_2','10k_points_by_10_k_means_method_2','10k_points_by_20_k_means_method_2']"
   ]
  },
  {
   "cell_type": "code",
   "execution_count": 38,
   "id": "1be290da",
   "metadata": {},
   "outputs": [],
   "source": [
    "#all data train, test and validation\n",
    "df_auc_active = pd.DataFrame(index=np.arange(10))\n",
    "for i in range(len(experiments)):\n",
    "    exact_path = file_path + simulation + experiments[i] + '/results.json'\n",
    "    file1 = open(exact_path, 'r')\n",
    "    Lines = file1.readlines()\n",
    "    arr = Lines[0].split('}')\n",
    "    dict_auc = {'train_auc_' + experiments[i]:[],\n",
    "            'validation_auc_' + experiments[i]:[],\n",
    "            'test_auc_' + experiments[i]:[]\n",
    "            }\n",
    "    for line in arr:\n",
    "        split_lines = line.split(', ')\n",
    "        for sl in split_lines:\n",
    "            if 'train_auc' in sl:\n",
    "                dict_auc['train_auc_' + experiments[i]].append(float(sl.split(': ')[1]))\n",
    "            if 'validation_auc' in sl:\n",
    "                dict_auc['validation_auc_' + experiments[i]].append(float(sl.split(': ')[1]))\n",
    "            if 'test_auc' in sl:\n",
    "                dict_auc['test_auc_' + experiments[i]].append(float(sl.split(': ')[1]))            \n",
    "    file1.close()\n",
    "    df_auc = pd.DataFrame(dict_auc)\n",
    "    df_auc_active = df_auc_active.join(df_auc)"
   ]
  },
  {
   "cell_type": "code",
   "execution_count": 39,
   "id": "509fcba3",
   "metadata": {},
   "outputs": [
    {
     "data": {
      "text/plain": [
       "train_auc_1k_points_random_method_1                0.764225\n",
       "validation_auc_1k_points_random_method_1           0.715945\n",
       "test_auc_1k_points_random_method_1                 0.722646\n",
       "train_auc_1k_points_by_5_k_means_method_2          0.768745\n",
       "validation_auc_1k_points_by_5_k_means_method_2     0.736073\n",
       "test_auc_1k_points_by_5_k_means_method_2           0.742540\n",
       "train_auc_1k_points_by_10_k_means_method_2         0.781892\n",
       "validation_auc_1k_points_by_10_k_means_method_2    0.729921\n",
       "test_auc_1k_points_by_10_k_means_method_2          0.735813\n",
       "train_auc_1k_points_by_20_k_means_method_2         0.786225\n",
       "validation_auc_1k_points_by_20_k_means_method_2    0.738187\n",
       "test_auc_1k_points_by_20_k_means_method_2          0.740396\n",
       "dtype: float64"
      ]
     },
     "execution_count": 39,
     "metadata": {},
     "output_type": "execute_result"
    }
   ],
   "source": [
    "df_auc_active.mean(axis=0)"
   ]
  },
  {
   "cell_type": "code",
   "execution_count": 40,
   "id": "9f69968a",
   "metadata": {},
   "outputs": [
    {
     "data": {
      "text/plain": [
       "train_auc_1k_points_random_method_1                0.051087\n",
       "validation_auc_1k_points_random_method_1           0.013429\n",
       "test_auc_1k_points_random_method_1                 0.013213\n",
       "train_auc_1k_points_by_5_k_means_method_2          0.055008\n",
       "validation_auc_1k_points_by_5_k_means_method_2     0.039905\n",
       "test_auc_1k_points_by_5_k_means_method_2           0.042299\n",
       "train_auc_1k_points_by_10_k_means_method_2         0.049136\n",
       "validation_auc_1k_points_by_10_k_means_method_2    0.034419\n",
       "test_auc_1k_points_by_10_k_means_method_2          0.038880\n",
       "train_auc_1k_points_by_20_k_means_method_2         0.063971\n",
       "validation_auc_1k_points_by_20_k_means_method_2    0.036637\n",
       "test_auc_1k_points_by_20_k_means_method_2          0.040555\n",
       "dtype: float64"
      ]
     },
     "execution_count": 40,
     "metadata": {},
     "output_type": "execute_result"
    }
   ],
   "source": [
    "df_auc_active.std(axis=0)"
   ]
  },
  {
   "cell_type": "code",
   "execution_count": 42,
   "id": "141df187",
   "metadata": {},
   "outputs": [
    {
     "name": "stdout",
     "output_type": "stream",
     "text": [
      "WilcoxonResult(statistic=15.0, pvalue=0.232421875)\n",
      "WilcoxonResult(statistic=16.0, pvalue=0.275390625)\n",
      "WilcoxonResult(statistic=15.0, pvalue=0.232421875)\n"
     ]
    }
   ],
   "source": [
    "#group2 = df_auc_proportion_test['train_auc_80_per_labeled_baseline_10_unlabeled_random_method_5']\n",
    "#group3 = df_auc_proportion_test['train_auc_80_per_labeled_baseline_10_unlabeled_isolation_method_4']\n",
    "group4 = df_auc_active['test_auc_1k_points_by_20_k_means_method_2']\n",
    "group5 = df_auc_active['test_auc_1k_points_random_method_1']\n",
    "group6 = df_auc_active['test_auc_1k_points_by_5_k_means_method_2']\n",
    "group7 = df_auc_active['test_auc_1k_points_by_10_k_means_method_2']\n",
    "\n",
    "# conduct the Wilcoxon-Signed Rank Test\n",
    "#print(stats.wilcoxon(group2, group3))\n",
    "print(stats.wilcoxon(group4, group5))\n",
    "print(stats.wilcoxon(group6, group5))\n",
    "print(stats.wilcoxon(group5, group7))"
   ]
  },
  {
   "cell_type": "code",
   "execution_count": 18,
   "id": "ed105ec0",
   "metadata": {},
   "outputs": [
    {
     "data": {
      "text/html": [
       "<div>\n",
       "<style scoped>\n",
       "    .dataframe tbody tr th:only-of-type {\n",
       "        vertical-align: middle;\n",
       "    }\n",
       "\n",
       "    .dataframe tbody tr th {\n",
       "        vertical-align: top;\n",
       "    }\n",
       "\n",
       "    .dataframe thead th {\n",
       "        text-align: right;\n",
       "    }\n",
       "</style>\n",
       "<table border=\"1\" class=\"dataframe\">\n",
       "  <thead>\n",
       "    <tr style=\"text-align: right;\">\n",
       "      <th></th>\n",
       "      <th>test_auc_1k_points_random_method_1</th>\n",
       "      <th>test_auc_1k_points_by_5_k_means_method_2</th>\n",
       "      <th>test_auc_1k_points_by_10_k_means_method_2</th>\n",
       "      <th>test_auc_1k_points_by_20_k_means_method_2</th>\n",
       "    </tr>\n",
       "  </thead>\n",
       "  <tbody>\n",
       "    <tr>\n",
       "      <th>0</th>\n",
       "      <td>0.711302</td>\n",
       "      <td>0.797596</td>\n",
       "      <td>0.772837</td>\n",
       "      <td>0.714623</td>\n",
       "    </tr>\n",
       "    <tr>\n",
       "      <th>1</th>\n",
       "      <td>0.725165</td>\n",
       "      <td>0.733256</td>\n",
       "      <td>0.740494</td>\n",
       "      <td>0.768853</td>\n",
       "    </tr>\n",
       "    <tr>\n",
       "      <th>2</th>\n",
       "      <td>0.743433</td>\n",
       "      <td>0.768533</td>\n",
       "      <td>0.763567</td>\n",
       "      <td>0.772454</td>\n",
       "    </tr>\n",
       "    <tr>\n",
       "      <th>3</th>\n",
       "      <td>0.708497</td>\n",
       "      <td>0.737190</td>\n",
       "      <td>0.709283</td>\n",
       "      <td>0.739589</td>\n",
       "    </tr>\n",
       "    <tr>\n",
       "      <th>4</th>\n",
       "      <td>0.723461</td>\n",
       "      <td>0.773688</td>\n",
       "      <td>0.732466</td>\n",
       "      <td>0.716192</td>\n",
       "    </tr>\n",
       "    <tr>\n",
       "      <th>5</th>\n",
       "      <td>0.711914</td>\n",
       "      <td>0.796737</td>\n",
       "      <td>0.776803</td>\n",
       "      <td>0.695756</td>\n",
       "    </tr>\n",
       "    <tr>\n",
       "      <th>6</th>\n",
       "      <td>0.739583</td>\n",
       "      <td>0.701340</td>\n",
       "      <td>0.776908</td>\n",
       "      <td>0.781702</td>\n",
       "    </tr>\n",
       "    <tr>\n",
       "      <th>7</th>\n",
       "      <td>0.705981</td>\n",
       "      <td>0.747310</td>\n",
       "      <td>0.703962</td>\n",
       "      <td>0.799341</td>\n",
       "    </tr>\n",
       "    <tr>\n",
       "      <th>8</th>\n",
       "      <td>0.733730</td>\n",
       "      <td>0.683745</td>\n",
       "      <td>0.724894</td>\n",
       "      <td>0.742406</td>\n",
       "    </tr>\n",
       "    <tr>\n",
       "      <th>9</th>\n",
       "      <td>0.723391</td>\n",
       "      <td>0.686003</td>\n",
       "      <td>0.656918</td>\n",
       "      <td>0.673039</td>\n",
       "    </tr>\n",
       "  </tbody>\n",
       "</table>\n",
       "</div>"
      ],
      "text/plain": [
       "   test_auc_1k_points_random_method_1  \\\n",
       "0                            0.711302   \n",
       "1                            0.725165   \n",
       "2                            0.743433   \n",
       "3                            0.708497   \n",
       "4                            0.723461   \n",
       "5                            0.711914   \n",
       "6                            0.739583   \n",
       "7                            0.705981   \n",
       "8                            0.733730   \n",
       "9                            0.723391   \n",
       "\n",
       "   test_auc_1k_points_by_5_k_means_method_2  \\\n",
       "0                                  0.797596   \n",
       "1                                  0.733256   \n",
       "2                                  0.768533   \n",
       "3                                  0.737190   \n",
       "4                                  0.773688   \n",
       "5                                  0.796737   \n",
       "6                                  0.701340   \n",
       "7                                  0.747310   \n",
       "8                                  0.683745   \n",
       "9                                  0.686003   \n",
       "\n",
       "   test_auc_1k_points_by_10_k_means_method_2  \\\n",
       "0                                   0.772837   \n",
       "1                                   0.740494   \n",
       "2                                   0.763567   \n",
       "3                                   0.709283   \n",
       "4                                   0.732466   \n",
       "5                                   0.776803   \n",
       "6                                   0.776908   \n",
       "7                                   0.703962   \n",
       "8                                   0.724894   \n",
       "9                                   0.656918   \n",
       "\n",
       "   test_auc_1k_points_by_20_k_means_method_2  \n",
       "0                                   0.714623  \n",
       "1                                   0.768853  \n",
       "2                                   0.772454  \n",
       "3                                   0.739589  \n",
       "4                                   0.716192  \n",
       "5                                   0.695756  \n",
       "6                                   0.781702  \n",
       "7                                   0.799341  \n",
       "8                                   0.742406  \n",
       "9                                   0.673039  "
      ]
     },
     "execution_count": 18,
     "metadata": {},
     "output_type": "execute_result"
    }
   ],
   "source": [
    "# only test results\n",
    "df_auc_active_test_2 = pd.DataFrame(index=np.arange(10))\n",
    "for i in range(len(experiments)):\n",
    "    exact_path = file_path + simulation + experiments[i] + '/results.json'\n",
    "    file1 = open(exact_path, 'r')\n",
    "    Lines = file1.readlines()\n",
    "    arr = Lines[0].split('}')\n",
    "    dict_auc = {\n",
    "            'test_auc_' + experiments[i]:[]\n",
    "            }\n",
    "    for line in arr:\n",
    "        split_lines = line.split(', ')\n",
    "        for sl in split_lines:\n",
    "            if 'test_auc' in sl:\n",
    "                dict_auc['test_auc_' + experiments[i]].append(float(sl.split(': ')[1]))         \n",
    "    file1.close()\n",
    "    df_auc = pd.DataFrame(dict_auc)\n",
    "    df_auc_active_test_2 = df_auc_active_test_2.join(df_auc)\n",
    "df_auc_active_test_2"
   ]
  },
  {
   "cell_type": "code",
   "execution_count": 20,
   "id": "3e672d09",
   "metadata": {},
   "outputs": [
    {
     "data": {
      "text/plain": [
       "test_auc_1k_points_random_method_1           0.722646\n",
       "test_auc_1k_points_by_5_k_means_method_2     0.742540\n",
       "test_auc_1k_points_by_10_k_means_method_2    0.735813\n",
       "test_auc_1k_points_by_20_k_means_method_2    0.740396\n",
       "dtype: float64"
      ]
     },
     "execution_count": 20,
     "metadata": {},
     "output_type": "execute_result"
    }
   ],
   "source": [
    "df_auc_active_test_2.mean()"
   ]
  },
  {
   "cell_type": "code",
   "execution_count": 22,
   "id": "9912bcd0",
   "metadata": {},
   "outputs": [
    {
     "data": {
      "text/html": [
       "<div>\n",
       "<style scoped>\n",
       "    .dataframe tbody tr th:only-of-type {\n",
       "        vertical-align: middle;\n",
       "    }\n",
       "\n",
       "    .dataframe tbody tr th {\n",
       "        vertical-align: top;\n",
       "    }\n",
       "\n",
       "    .dataframe thead th {\n",
       "        text-align: right;\n",
       "    }\n",
       "</style>\n",
       "<table border=\"1\" class=\"dataframe\">\n",
       "  <thead>\n",
       "    <tr style=\"text-align: right;\">\n",
       "      <th></th>\n",
       "      <th>test_auc_1k_points_random_method_1</th>\n",
       "      <th>test_auc_1k_points_by_5_k_means_method_2</th>\n",
       "      <th>test_auc_1k_points_by_10_k_means_method_2</th>\n",
       "      <th>test_auc_1k_points_by_20_k_means_method_2</th>\n",
       "    </tr>\n",
       "  </thead>\n",
       "  <tbody>\n",
       "    <tr>\n",
       "      <th>count</th>\n",
       "      <td>10.000000</td>\n",
       "      <td>10.000000</td>\n",
       "      <td>10.000000</td>\n",
       "      <td>10.000000</td>\n",
       "    </tr>\n",
       "    <tr>\n",
       "      <th>mean</th>\n",
       "      <td>0.722646</td>\n",
       "      <td>0.742540</td>\n",
       "      <td>0.735813</td>\n",
       "      <td>0.740396</td>\n",
       "    </tr>\n",
       "    <tr>\n",
       "      <th>std</th>\n",
       "      <td>0.013213</td>\n",
       "      <td>0.042299</td>\n",
       "      <td>0.038880</td>\n",
       "      <td>0.040555</td>\n",
       "    </tr>\n",
       "    <tr>\n",
       "      <th>min</th>\n",
       "      <td>0.705981</td>\n",
       "      <td>0.683745</td>\n",
       "      <td>0.656918</td>\n",
       "      <td>0.673039</td>\n",
       "    </tr>\n",
       "    <tr>\n",
       "      <th>25%</th>\n",
       "      <td>0.711455</td>\n",
       "      <td>0.709319</td>\n",
       "      <td>0.713186</td>\n",
       "      <td>0.715015</td>\n",
       "    </tr>\n",
       "    <tr>\n",
       "      <th>50%</th>\n",
       "      <td>0.723426</td>\n",
       "      <td>0.742250</td>\n",
       "      <td>0.736480</td>\n",
       "      <td>0.740998</td>\n",
       "    </tr>\n",
       "    <tr>\n",
       "      <th>75%</th>\n",
       "      <td>0.731589</td>\n",
       "      <td>0.772399</td>\n",
       "      <td>0.770519</td>\n",
       "      <td>0.771554</td>\n",
       "    </tr>\n",
       "    <tr>\n",
       "      <th>max</th>\n",
       "      <td>0.743433</td>\n",
       "      <td>0.797596</td>\n",
       "      <td>0.776908</td>\n",
       "      <td>0.799341</td>\n",
       "    </tr>\n",
       "  </tbody>\n",
       "</table>\n",
       "</div>"
      ],
      "text/plain": [
       "       test_auc_1k_points_random_method_1  \\\n",
       "count                           10.000000   \n",
       "mean                             0.722646   \n",
       "std                              0.013213   \n",
       "min                              0.705981   \n",
       "25%                              0.711455   \n",
       "50%                              0.723426   \n",
       "75%                              0.731589   \n",
       "max                              0.743433   \n",
       "\n",
       "       test_auc_1k_points_by_5_k_means_method_2  \\\n",
       "count                                 10.000000   \n",
       "mean                                   0.742540   \n",
       "std                                    0.042299   \n",
       "min                                    0.683745   \n",
       "25%                                    0.709319   \n",
       "50%                                    0.742250   \n",
       "75%                                    0.772399   \n",
       "max                                    0.797596   \n",
       "\n",
       "       test_auc_1k_points_by_10_k_means_method_2  \\\n",
       "count                                  10.000000   \n",
       "mean                                    0.735813   \n",
       "std                                     0.038880   \n",
       "min                                     0.656918   \n",
       "25%                                     0.713186   \n",
       "50%                                     0.736480   \n",
       "75%                                     0.770519   \n",
       "max                                     0.776908   \n",
       "\n",
       "       test_auc_1k_points_by_20_k_means_method_2  \n",
       "count                                  10.000000  \n",
       "mean                                    0.740396  \n",
       "std                                     0.040555  \n",
       "min                                     0.673039  \n",
       "25%                                     0.715015  \n",
       "50%                                     0.740998  \n",
       "75%                                     0.771554  \n",
       "max                                     0.799341  "
      ]
     },
     "execution_count": 22,
     "metadata": {},
     "output_type": "execute_result"
    }
   ],
   "source": [
    "df_auc_active_test_2.describe()"
   ]
  },
  {
   "cell_type": "code",
   "execution_count": 25,
   "id": "f73e1542",
   "metadata": {},
   "outputs": [
    {
     "data": {
      "text/plain": [
       "ShapiroResult(statistic=0.9442583918571472, pvalue=0.28820186853408813)"
      ]
     },
     "execution_count": 25,
     "metadata": {},
     "output_type": "execute_result"
    }
   ],
   "source": [
    "# Welch's t-test unequal var - t test between random to 5 means (best result)\n",
    "from scipy import stats\n",
    "stats.shapiro(df_auc_active_test_2[['test_auc_1k_points_random_method_1','test_auc_1k_points_by_5_k_means_method_2']])\n",
    "\n"
   ]
  },
  {
   "cell_type": "code",
   "execution_count": 27,
   "id": "509ba59a",
   "metadata": {},
   "outputs": [
    {
     "data": {
      "text/plain": [
       "Ttest_indResult(statistic=-1.4196553541065444, pvalue=0.172795406265848)"
      ]
     },
     "execution_count": 27,
     "metadata": {},
     "output_type": "execute_result"
    }
   ],
   "source": [
    "# t test\n",
    "from scipy.stats import ttest_ind\n",
    "ttest_ind(df_auc_active_test_2['test_auc_1k_points_random_method_1'],df_auc_proportion_test_2['test_auc_1k_points_by_5_k_means_method_2'])"
   ]
  },
  {
   "cell_type": "code",
   "execution_count": 19,
   "id": "213f27c5",
   "metadata": {},
   "outputs": [
    {
     "data": {
      "text/plain": [
       "{'whiskers': [<matplotlib.lines.Line2D at 0x12e84a220>,\n",
       "  <matplotlib.lines.Line2D at 0x12e82df10>,\n",
       "  <matplotlib.lines.Line2D at 0x12e8583a0>,\n",
       "  <matplotlib.lines.Line2D at 0x12e858640>,\n",
       "  <matplotlib.lines.Line2D at 0x12e865610>,\n",
       "  <matplotlib.lines.Line2D at 0x12e8658b0>,\n",
       "  <matplotlib.lines.Line2D at 0x12e8748b0>,\n",
       "  <matplotlib.lines.Line2D at 0x12e874b50>],\n",
       " 'caps': [<matplotlib.lines.Line2D at 0x12e84a640>,\n",
       "  <matplotlib.lines.Line2D at 0x12e84a8e0>,\n",
       "  <matplotlib.lines.Line2D at 0x12e8588b0>,\n",
       "  <matplotlib.lines.Line2D at 0x12e858b50>,\n",
       "  <matplotlib.lines.Line2D at 0x12e865b50>,\n",
       "  <matplotlib.lines.Line2D at 0x12e865df0>,\n",
       "  <matplotlib.lines.Line2D at 0x12e874df0>,\n",
       "  <matplotlib.lines.Line2D at 0x12e8810d0>],\n",
       " 'boxes': [<matplotlib.lines.Line2D at 0x12e83af40>,\n",
       "  <matplotlib.lines.Line2D at 0x12e858100>,\n",
       "  <matplotlib.lines.Line2D at 0x12e865370>,\n",
       "  <matplotlib.lines.Line2D at 0x12e874610>],\n",
       " 'medians': [<matplotlib.lines.Line2D at 0x12e84ab80>,\n",
       "  <matplotlib.lines.Line2D at 0x12e858df0>,\n",
       "  <matplotlib.lines.Line2D at 0x12e8740d0>,\n",
       "  <matplotlib.lines.Line2D at 0x12e881370>],\n",
       " 'fliers': [<matplotlib.lines.Line2D at 0x12e84ae20>,\n",
       "  <matplotlib.lines.Line2D at 0x12e8650d0>,\n",
       "  <matplotlib.lines.Line2D at 0x12e874370>,\n",
       "  <matplotlib.lines.Line2D at 0x12e881610>],\n",
       " 'means': []}"
      ]
     },
     "execution_count": 19,
     "metadata": {},
     "output_type": "execute_result"
    },
    {
     "data": {
      "image/png": "[encoded data removed]",
      "text/plain": [
       "<Figure size 640x480 with 1 Axes>"
      ]
     },
     "metadata": {},
     "output_type": "display_data"
    }
   ],
   "source": [
    "fig2, ax2 = plt.subplots()\n",
    "ax2.set_title('Test AUC of 1k samples selection')\n",
    "ax2.boxplot(df_auc_active_test_2)"
   ]
  },
  {
   "cell_type": "code",
   "execution_count": null,
   "id": "59de211b",
   "metadata": {},
   "outputs": [],
   "source": [
    "# unlabeled samples drop method - 80% labeled, choose to include 50 of the unlabeled%"
   ]
  },
  {
   "cell_type": "code",
   "execution_count": 7,
   "id": "69c1071f",
   "metadata": {},
   "outputs": [],
   "source": [
    "simulation = 'unlabeled data drop method little data/'\n",
    "experiments = ['80_per_labeled_baseline_10_unlabeled_random_method_5','80_per_labeled_baseline_10_unlabeled_isolation_method_4']"
   ]
  },
  {
   "cell_type": "code",
   "execution_count": 12,
   "id": "b5351470",
   "metadata": {},
   "outputs": [],
   "source": [
    "#all data train, test and validation\n",
    "df_auc_iso = pd.DataFrame(index=np.arange(3))\n",
    "for i in range(len(experiments)):\n",
    "    #exact_path = file_path + simulation + experiments[i] + '/results.json'\n",
    "    exact_path = file_path + experiments[i] + '/results.json'\n",
    "    file1 = open(exact_path, 'r')\n",
    "    Lines = file1.readlines()\n",
    "    arr = Lines[0].split('}')\n",
    "    dict_auc = {'train_auc_' + experiments[i]:[],\n",
    "            'validation_auc_' + experiments[i]:[],\n",
    "            'test_auc_' + experiments[i]:[]\n",
    "            }\n",
    "    for line in arr:\n",
    "        split_lines = line.split(', ')\n",
    "        for sl in split_lines:\n",
    "            if 'train_auc' in sl:\n",
    "                dict_auc['train_auc_' + experiments[i]].append(float(sl.split(': ')[1]))\n",
    "            if 'validation_auc' in sl:\n",
    "                dict_auc['validation_auc_' + experiments[i]].append(float(sl.split(': ')[1]))\n",
    "            if 'test_auc' in sl:\n",
    "                dict_auc['test_auc_' + experiments[i]].append(float(sl.split(': ')[1]))            \n",
    "    file1.close()\n",
    "    df_auc = pd.DataFrame(dict_auc)\n",
    "    df_auc_iso = df_auc_iso.join(df_auc)"
   ]
  },
  {
   "cell_type": "code",
   "execution_count": 32,
   "id": "f3b18166",
   "metadata": {},
   "outputs": [
    {
     "data": {
      "text/plain": [
       "train_auc_80_per_labeled_baseline_10_unlabeled_random_method_5            0.001119\n",
       "validation_auc_80_per_labeled_baseline_10_unlabeled_random_method_5       0.001468\n",
       "test_auc_80_per_labeled_baseline_10_unlabeled_random_method_5             0.002369\n",
       "train_auc_80_per_labeled_baseline_10_unlabeled_isolation_method_4         0.000471\n",
       "validation_auc_80_per_labeled_baseline_10_unlabeled_isolation_method_4    0.001060\n",
       "test_auc_80_per_labeled_baseline_10_unlabeled_isolation_method_4          0.000838\n",
       "dtype: float64"
      ]
     },
     "execution_count": 32,
     "metadata": {},
     "output_type": "execute_result"
    }
   ],
   "source": [
    "df_auc_iso.std(axis=0)"
   ]
  },
  {
   "cell_type": "code",
   "execution_count": 35,
   "id": "7ef65631",
   "metadata": {},
   "outputs": [
    {
     "name": "stdout",
     "output_type": "stream",
     "text": [
      "WilcoxonResult(statistic=0.0, pvalue=0.25)\n"
     ]
    }
   ],
   "source": [
    "group6 = df_auc_iso['test_auc_80_per_labeled_baseline_10_unlabeled_random_method_5']\n",
    "group7 = df_auc_iso['test_auc_80_per_labeled_baseline_10_unlabeled_isolation_method_4']\n",
    "\n",
    "# conduct the Wilcoxon-Signed Rank Test\n",
    "print(stats.wilcoxon(group6, group7))"
   ]
  },
  {
   "cell_type": "markdown",
   "id": "330f8b90",
   "metadata": {},
   "source": [
    "# unlabeled samples drop method 25%"
   ]
  },
  {
   "cell_type": "code",
   "execution_count": 70,
   "id": "42171654",
   "metadata": {},
   "outputs": [],
   "source": [
    "simulation = 'unlabeled data drop method/'\n",
    "experiments = ['25_per_labeled_0_unlabeled_method_3','25_per_labeled_baseline_5_unlabeled_random_method_5','25_per_labeled_baseline_5_unlabeled_isolation_method_4']\n",
    "               #,'80_per_labeled_baseline_5_unlabeled_random_method_5','80_per_labeled_baseline_5_unlabeled_isolation_method_4']"
   ]
  },
  {
   "cell_type": "code",
   "execution_count": 71,
   "id": "7f3c8188",
   "metadata": {},
   "outputs": [
    {
     "ename": "FileNotFoundError",
     "evalue": "[Errno 2] No such file or directory: '/Users/glrz/Desktop/Thesis/src/log/DeepSAD/cancer_test/unlabeled data drop method/80_per_labeled_baseline_5_unlabeled_random_method_5/results.json'",
     "output_type": "error",
     "traceback": [
      "\u001b[0;31m---------------------------------------------------------------------------\u001b[0m",
      "\u001b[0;31mFileNotFoundError\u001b[0m                         Traceback (most recent call last)",
      "Cell \u001b[0;32mIn[71], line 5\u001b[0m\n\u001b[1;32m      3\u001b[0m \u001b[38;5;28;01mfor\u001b[39;00m i \u001b[38;5;129;01min\u001b[39;00m \u001b[38;5;28mrange\u001b[39m(\u001b[38;5;28mlen\u001b[39m(experiments)):\n\u001b[1;32m      4\u001b[0m     exact_path \u001b[38;5;241m=\u001b[39m file_path \u001b[38;5;241m+\u001b[39m simulation \u001b[38;5;241m+\u001b[39m experiments[i] \u001b[38;5;241m+\u001b[39m \u001b[38;5;124m'\u001b[39m\u001b[38;5;124m/results.json\u001b[39m\u001b[38;5;124m'\u001b[39m\n\u001b[0;32m----> 5\u001b[0m     file1 \u001b[38;5;241m=\u001b[39m \u001b[38;5;28;43mopen\u001b[39;49m\u001b[43m(\u001b[49m\u001b[43mexact_path\u001b[49m\u001b[43m,\u001b[49m\u001b[43m \u001b[49m\u001b[38;5;124;43m'\u001b[39;49m\u001b[38;5;124;43mr\u001b[39;49m\u001b[38;5;124;43m'\u001b[39;49m\u001b[43m)\u001b[49m\n\u001b[1;32m      6\u001b[0m     Lines \u001b[38;5;241m=\u001b[39m file1\u001b[38;5;241m.\u001b[39mreadlines()\n\u001b[1;32m      7\u001b[0m     arr \u001b[38;5;241m=\u001b[39m Lines[\u001b[38;5;241m0\u001b[39m]\u001b[38;5;241m.\u001b[39msplit(\u001b[38;5;124m'\u001b[39m\u001b[38;5;124m}\u001b[39m\u001b[38;5;124m'\u001b[39m)\n",
      "File \u001b[0;32m~/miniforge3/envs/torchenv/lib/python3.8/site-packages/IPython/core/interactiveshell.py:282\u001b[0m, in \u001b[0;36m_modified_open\u001b[0;34m(file, *args, **kwargs)\u001b[0m\n\u001b[1;32m    275\u001b[0m \u001b[38;5;28;01mif\u001b[39;00m file \u001b[38;5;129;01min\u001b[39;00m {\u001b[38;5;241m0\u001b[39m, \u001b[38;5;241m1\u001b[39m, \u001b[38;5;241m2\u001b[39m}:\n\u001b[1;32m    276\u001b[0m     \u001b[38;5;28;01mraise\u001b[39;00m \u001b[38;5;167;01mValueError\u001b[39;00m(\n\u001b[1;32m    277\u001b[0m         \u001b[38;5;124mf\u001b[39m\u001b[38;5;124m\"\u001b[39m\u001b[38;5;124mIPython won\u001b[39m\u001b[38;5;124m'\u001b[39m\u001b[38;5;124mt let you open fd=\u001b[39m\u001b[38;5;132;01m{\u001b[39;00mfile\u001b[38;5;132;01m}\u001b[39;00m\u001b[38;5;124m by default \u001b[39m\u001b[38;5;124m\"\u001b[39m\n\u001b[1;32m    278\u001b[0m         \u001b[38;5;124m\"\u001b[39m\u001b[38;5;124mas it is likely to crash IPython. If you know what you are doing, \u001b[39m\u001b[38;5;124m\"\u001b[39m\n\u001b[1;32m    279\u001b[0m         \u001b[38;5;124m\"\u001b[39m\u001b[38;5;124myou can use builtins\u001b[39m\u001b[38;5;124m'\u001b[39m\u001b[38;5;124m open.\u001b[39m\u001b[38;5;124m\"\u001b[39m\n\u001b[1;32m    280\u001b[0m     )\n\u001b[0;32m--> 282\u001b[0m \u001b[38;5;28;01mreturn\u001b[39;00m \u001b[43mio_open\u001b[49m\u001b[43m(\u001b[49m\u001b[43mfile\u001b[49m\u001b[43m,\u001b[49m\u001b[43m \u001b[49m\u001b[38;5;241;43m*\u001b[39;49m\u001b[43margs\u001b[49m\u001b[43m,\u001b[49m\u001b[43m \u001b[49m\u001b[38;5;241;43m*\u001b[39;49m\u001b[38;5;241;43m*\u001b[39;49m\u001b[43mkwargs\u001b[49m\u001b[43m)\u001b[49m\n",
      "\u001b[0;31mFileNotFoundError\u001b[0m: [Errno 2] No such file or directory: '/Users/glrz/Desktop/Thesis/src/log/DeepSAD/cancer_test/unlabeled data drop method/80_per_labeled_baseline_5_unlabeled_random_method_5/results.json'"
     ]
    }
   ],
   "source": [
    "#all data train, test and validation\n",
    "df_auc_iso = pd.DataFrame(index=np.arange(3))\n",
    "for i in range(len(experiments)):\n",
    "    exact_path = file_path + simulation + experiments[i] + '/results.json'\n",
    "    file1 = open(exact_path, 'r')\n",
    "    Lines = file1.readlines()\n",
    "    arr = Lines[0].split('}')\n",
    "    dict_auc = {'train_auc_' + experiments[i]:[],\n",
    "            'validation_auc_' + experiments[i]:[],\n",
    "            'test_auc_' + experiments[i]:[]\n",
    "            }\n",
    "    for line in arr:\n",
    "        split_lines = line.split(', ')\n",
    "        for sl in split_lines:\n",
    "            if 'train_auc' in sl:\n",
    "                dict_auc['train_auc_' + experiments[i]].append(float(sl.split(': ')[1]))\n",
    "            if 'validation_auc' in sl:\n",
    "                dict_auc['validation_auc_' + experiments[i]].append(float(sl.split(': ')[1]))\n",
    "            if 'test_auc' in sl:\n",
    "                dict_auc['test_auc_' + experiments[i]].append(float(sl.split(': ')[1]))            \n",
    "    file1.close()\n",
    "    df_auc = pd.DataFrame(dict_auc)\n",
    "    df_auc_iso = df_auc_iso.join(df_auc)"
   ]
  },
  {
   "cell_type": "code",
   "execution_count": 56,
   "id": "03d3e94a",
   "metadata": {},
   "outputs": [
    {
     "data": {
      "text/plain": [
       "train_auc_25_per_labeled_0_unlabeled_method_3                            0.908207\n",
       "validation_auc_25_per_labeled_0_unlabeled_method_3                       0.879335\n",
       "test_auc_25_per_labeled_0_unlabeled_method_3                             0.886085\n",
       "train_auc_25_per_labeled_baseline_5_unlabeled_random_method_5            0.924445\n",
       "validation_auc_25_per_labeled_baseline_5_unlabeled_random_method_5       0.878403\n",
       "test_auc_25_per_labeled_baseline_5_unlabeled_random_method_5             0.880711\n",
       "train_auc_25_per_labeled_baseline_5_unlabeled_isolation_method_4         0.926820\n",
       "validation_auc_25_per_labeled_baseline_5_unlabeled_isolation_method_4    0.874693\n",
       "test_auc_25_per_labeled_baseline_5_unlabeled_isolation_method_4          0.878507\n",
       "dtype: float64"
      ]
     },
     "execution_count": 56,
     "metadata": {},
     "output_type": "execute_result"
    }
   ],
   "source": [
    "df_auc_iso.mean(axis=0)"
   ]
  },
  {
   "cell_type": "code",
   "execution_count": 58,
   "id": "9ae888f6",
   "metadata": {},
   "outputs": [
    {
     "data": {
      "text/html": [
       "<div>\n",
       "<style scoped>\n",
       "    .dataframe tbody tr th:only-of-type {\n",
       "        vertical-align: middle;\n",
       "    }\n",
       "\n",
       "    .dataframe tbody tr th {\n",
       "        vertical-align: top;\n",
       "    }\n",
       "\n",
       "    .dataframe thead th {\n",
       "        text-align: right;\n",
       "    }\n",
       "</style>\n",
       "<table border=\"1\" class=\"dataframe\">\n",
       "  <thead>\n",
       "    <tr style=\"text-align: right;\">\n",
       "      <th></th>\n",
       "      <th>test_auc_25_per_labeled_0_unlabeled_method_3</th>\n",
       "      <th>test_auc_25_per_labeled_baseline_5_unlabeled_random_method_5</th>\n",
       "      <th>test_auc_25_per_labeled_baseline_5_unlabeled_isolation_method_4</th>\n",
       "    </tr>\n",
       "  </thead>\n",
       "  <tbody>\n",
       "    <tr>\n",
       "      <th>0</th>\n",
       "      <td>0.887710</td>\n",
       "      <td>0.883628</td>\n",
       "      <td>0.881200</td>\n",
       "    </tr>\n",
       "    <tr>\n",
       "      <th>1</th>\n",
       "      <td>0.882652</td>\n",
       "      <td>0.881673</td>\n",
       "      <td>0.876908</td>\n",
       "    </tr>\n",
       "    <tr>\n",
       "      <th>2</th>\n",
       "      <td>0.887895</td>\n",
       "      <td>0.876834</td>\n",
       "      <td>0.877413</td>\n",
       "    </tr>\n",
       "    <tr>\n",
       "      <th>3</th>\n",
       "      <td>0.881347</td>\n",
       "      <td>NaN</td>\n",
       "      <td>NaN</td>\n",
       "    </tr>\n",
       "    <tr>\n",
       "      <th>4</th>\n",
       "      <td>0.881109</td>\n",
       "      <td>NaN</td>\n",
       "      <td>NaN</td>\n",
       "    </tr>\n",
       "    <tr>\n",
       "      <th>5</th>\n",
       "      <td>0.883437</td>\n",
       "      <td>NaN</td>\n",
       "      <td>NaN</td>\n",
       "    </tr>\n",
       "    <tr>\n",
       "      <th>6</th>\n",
       "      <td>0.884632</td>\n",
       "      <td>NaN</td>\n",
       "      <td>NaN</td>\n",
       "    </tr>\n",
       "    <tr>\n",
       "      <th>7</th>\n",
       "      <td>0.884195</td>\n",
       "      <td>NaN</td>\n",
       "      <td>NaN</td>\n",
       "    </tr>\n",
       "    <tr>\n",
       "      <th>8</th>\n",
       "      <td>0.885253</td>\n",
       "      <td>NaN</td>\n",
       "      <td>NaN</td>\n",
       "    </tr>\n",
       "    <tr>\n",
       "      <th>9</th>\n",
       "      <td>0.879589</td>\n",
       "      <td>NaN</td>\n",
       "      <td>NaN</td>\n",
       "    </tr>\n",
       "  </tbody>\n",
       "</table>\n",
       "</div>"
      ],
      "text/plain": [
       "   test_auc_25_per_labeled_0_unlabeled_method_3  \\\n",
       "0                                      0.887710   \n",
       "1                                      0.882652   \n",
       "2                                      0.887895   \n",
       "3                                      0.881347   \n",
       "4                                      0.881109   \n",
       "5                                      0.883437   \n",
       "6                                      0.884632   \n",
       "7                                      0.884195   \n",
       "8                                      0.885253   \n",
       "9                                      0.879589   \n",
       "\n",
       "   test_auc_25_per_labeled_baseline_5_unlabeled_random_method_5  \\\n",
       "0                                           0.883628              \n",
       "1                                           0.881673              \n",
       "2                                           0.876834              \n",
       "3                                                NaN              \n",
       "4                                                NaN              \n",
       "5                                                NaN              \n",
       "6                                                NaN              \n",
       "7                                                NaN              \n",
       "8                                                NaN              \n",
       "9                                                NaN              \n",
       "\n",
       "   test_auc_25_per_labeled_baseline_5_unlabeled_isolation_method_4  \n",
       "0                                           0.881200                \n",
       "1                                           0.876908                \n",
       "2                                           0.877413                \n",
       "3                                                NaN                \n",
       "4                                                NaN                \n",
       "5                                                NaN                \n",
       "6                                                NaN                \n",
       "7                                                NaN                \n",
       "8                                                NaN                \n",
       "9                                                NaN                "
      ]
     },
     "execution_count": 58,
     "metadata": {},
     "output_type": "execute_result"
    }
   ],
   "source": [
    "# only test results\n",
    "df_auc_iso_test = pd.DataFrame(index=np.arange(10))\n",
    "for i in range(len(experiments)):\n",
    "    exact_path = file_path + simulation + experiments[i] + '/results.json'\n",
    "    file1 = open(exact_path, 'r')\n",
    "    Lines = file1.readlines()\n",
    "    arr = Lines[0].split('}')\n",
    "    dict_auc = {\n",
    "            'test_auc_' + experiments[i]:[]\n",
    "            }\n",
    "    for line in arr:\n",
    "        split_lines = line.split(', ')\n",
    "        for sl in split_lines:\n",
    "            if 'test_auc' in sl:\n",
    "                dict_auc['test_auc_' + experiments[i]].append(float(sl.split(': ')[1]))         \n",
    "    file1.close()\n",
    "    df_auc = pd.DataFrame(dict_auc)\n",
    "    df_auc_iso_test = df_auc_iso_test.join(df_auc)\n",
    "df_auc_iso_test"
   ]
  },
  {
   "cell_type": "code",
   "execution_count": null,
   "id": "370779d4",
   "metadata": {},
   "outputs": [],
   "source": [
    "df_auc_iso_test.mean(axis=0)"
   ]
  },
  {
   "cell_type": "code",
   "execution_count": 12,
   "id": "6c35c034",
   "metadata": {},
   "outputs": [
    {
     "data": {
      "text/plain": [
       "{'whiskers': [<matplotlib.lines.Line2D at 0x1315cda60>,\n",
       "  <matplotlib.lines.Line2D at 0x1315cdd00>,\n",
       "  <matplotlib.lines.Line2D at 0x1315ddd00>,\n",
       "  <matplotlib.lines.Line2D at 0x1315ddfa0>,\n",
       "  <matplotlib.lines.Line2D at 0x1315e7e50>,\n",
       "  <matplotlib.lines.Line2D at 0x131706130>,\n",
       "  <matplotlib.lines.Line2D at 0x131713130>,\n",
       "  <matplotlib.lines.Line2D at 0x1317133d0>,\n",
       "  <matplotlib.lines.Line2D at 0x1317213d0>,\n",
       "  <matplotlib.lines.Line2D at 0x131721670>],\n",
       " 'caps': [<matplotlib.lines.Line2D at 0x1315cdfa0>,\n",
       "  <matplotlib.lines.Line2D at 0x1315dd280>,\n",
       "  <matplotlib.lines.Line2D at 0x1315e7160>,\n",
       "  <matplotlib.lines.Line2D at 0x1315e73d0>,\n",
       "  <matplotlib.lines.Line2D at 0x1317063d0>,\n",
       "  <matplotlib.lines.Line2D at 0x131706670>,\n",
       "  <matplotlib.lines.Line2D at 0x131713670>,\n",
       "  <matplotlib.lines.Line2D at 0x131713910>,\n",
       "  <matplotlib.lines.Line2D at 0x131721910>,\n",
       "  <matplotlib.lines.Line2D at 0x131721bb0>],\n",
       " 'boxes': [<matplotlib.lines.Line2D at 0x1315cd7c0>,\n",
       "  <matplotlib.lines.Line2D at 0x1315dda60>,\n",
       "  <matplotlib.lines.Line2D at 0x1315e7bb0>,\n",
       "  <matplotlib.lines.Line2D at 0x131706e50>,\n",
       "  <matplotlib.lines.Line2D at 0x131721130>],\n",
       " 'medians': [<matplotlib.lines.Line2D at 0x1315dd520>,\n",
       "  <matplotlib.lines.Line2D at 0x1315e7670>,\n",
       "  <matplotlib.lines.Line2D at 0x131706910>,\n",
       "  <matplotlib.lines.Line2D at 0x131713bb0>,\n",
       "  <matplotlib.lines.Line2D at 0x131721e50>],\n",
       " 'fliers': [<matplotlib.lines.Line2D at 0x1315dd7c0>,\n",
       "  <matplotlib.lines.Line2D at 0x1315e7910>,\n",
       "  <matplotlib.lines.Line2D at 0x131706bb0>,\n",
       "  <matplotlib.lines.Line2D at 0x131713e50>,\n",
       "  <matplotlib.lines.Line2D at 0x13172e130>],\n",
       " 'means': []}"
      ]
     },
     "execution_count": 12,
     "metadata": {},
     "output_type": "execute_result"
    },
    {
     "data": {
      "image/png": "[encoded data removed]",
      "text/plain": [
       "<Figure size 640x480 with 1 Axes>"
      ]
     },
     "metadata": {},
     "output_type": "display_data"
    }
   ],
   "source": [
    "fig1, ax1 = plt.subplots()\n",
    "ax1.set_title('Test AUC of unlabel samples selection to be included in the DeepOCC prediction model')\n",
    "ax1.boxplot(df_auc_iso_test)"
   ]
  },
  {
   "cell_type": "markdown",
   "id": "287ed415",
   "metadata": {},
   "source": [
    "# unlabeled samples drop method 80% labeled"
   ]
  },
  {
   "cell_type": "code",
   "execution_count": 72,
   "id": "bf87a359",
   "metadata": {},
   "outputs": [],
   "source": [
    "simulation = 'unlabeled data selection - old before fixes/'\n",
    "experiments = ['80_per_labeled_baseline_5_unlabeled_random_method_5','80_per_labeled_baseline_5_unlabeled_isolation_method_4']\n"
   ]
  },
  {
   "cell_type": "code",
   "execution_count": 73,
   "id": "1b5bbe0b",
   "metadata": {},
   "outputs": [
    {
     "data": {
      "text/plain": [
       "0"
      ]
     },
     "metadata": {},
     "output_type": "display_data"
    },
    {
     "data": {
      "text/plain": [
       "['{\"train_time\": 628.9807531833649, \"train_auc\": 0.9068530121300913, \"train_ratios\": null, \"test_auc\": 0.8902992775537723, \"test_time\": 0.20536518096923828, \"test_scores\": null, \"test_raios\": null, \"validation_auc\": 0.8863578861453588, \"validation_time\": null, \"validation_scores\": null, \"validation_raios\": null',\n",
       " '{\"train_time\": 650.5649681091309, \"train_auc\": 0.906043802382085, \"train_ratios\": null, \"test_auc\": 0.8931126218289205, \"test_time\": 0.195404052734375, \"test_scores\": null, \"test_raios\": null, \"validation_auc\": 0.8884600407020541, \"validation_time\": null, \"validation_scores\": null, \"validation_raios\": null',\n",
       " '{\"train_time\": 1280.2150979042053, \"train_auc\": 0.9054025514077156, \"train_ratios\": null, \"test_auc\": 0.8912364922607172, \"test_time\": 0.18810582160949707, \"test_scores\": null, \"test_raios\": null, \"validation_auc\": 0.8863409562236872, \"validation_time\": null, \"validation_scores\": null, \"validation_raios\": null',\n",
       " '{\"train_time\": 640.315160036087, \"train_auc\": 0.9069166176846821, \"train_ratios\": null, \"test_auc\": 0.8939573783779627, \"test_time\": 0.18156981468200684, \"test_scores\": null, \"test_raios\": null, \"validation_auc\": 0.8861099717478108, \"validation_time\": null, \"validation_scores\": null, \"validation_raios\": null',\n",
       " '{\"train_time\": 647.8164331912994, \"train_auc\": 0.9078157329624619, \"train_ratios\": null, \"test_auc\": 0.8920427499956236, \"test_time\": 0.19144606590270996, \"test_scores\": null, \"test_raios\": null, \"validation_auc\": 0.8860547333219386, \"validation_time\": null, \"validation_scores\": null, \"validation_raios\": null',\n",
       " '{\"train_time\": 759.2364177703857, \"train_auc\": 0.9083326217158383, \"train_ratios\": null, \"test_auc\": 0.8917987897871916, \"test_time\": 0.195051908493042, \"test_scores\": null, \"test_raios\": null, \"validation_auc\": 0.8876042614978195, \"validation_time\": null, \"validation_scores\": null, \"validation_raios\": null',\n",
       " '{\"train_time\": 654.4824068546295, \"train_auc\": 0.9067903410425728, \"train_ratios\": null, \"test_auc\": 0.8922275098229665, \"test_time\": 0.19630694389343262, \"test_scores\": null, \"test_raios\": null, \"validation_auc\": 0.8864233548947933, \"validation_time\": null, \"validation_scores\": null, \"validation_raios\": null',\n",
       " '{\"train_time\": 656.9152088165283, \"train_auc\": 0.907836285626394, \"train_ratios\": null, \"test_auc\": 0.8882341337939221, \"test_time\": 0.19257307052612305, \"test_scores\": null, \"test_raios\": null, \"validation_auc\": 0.8858917425830287, \"validation_time\": null, \"validation_scores\": null, \"validation_raios\": null',\n",
       " '{\"train_time\": 693.7628591060638, \"train_auc\": 0.9056818270296024, \"train_ratios\": null, \"test_auc\": 0.8914210399003142, \"test_time\": 0.21283221244812012, \"test_scores\": null, \"test_raios\": null, \"validation_auc\": 0.8878154797646594, \"validation_time\": null, \"validation_scores\": null, \"validation_raios\": null',\n",
       " '{\"train_time\": 1627.833869934082, \"train_auc\": 0.9066804848825007, \"train_ratios\": null, \"test_auc\": 0.893213501187986, \"test_time\": 0.1934669017791748, \"test_scores\": null, \"test_raios\": null, \"validation_auc\": 0.888882740643285, \"validation_time\": null, \"validation_scores\": null, \"validation_raios\": null',\n",
       " '']"
      ]
     },
     "metadata": {},
     "output_type": "display_data"
    },
    {
     "data": {
      "text/plain": [
       "1"
      ]
     },
     "metadata": {},
     "output_type": "display_data"
    },
    {
     "data": {
      "text/plain": [
       "['{\"train_time\": 13726.69106388092, \"train_auc\": 0.9081079806530911, \"train_ratios\": null, \"test_auc\": 0.8906745289299426, \"test_time\": 0.1791248321533203, \"test_scores\": null, \"test_raios\": null, \"validation_auc\": 0.8879863727300921, \"validation_time\": null, \"validation_scores\": null, \"validation_raios\": null',\n",
       " '{\"train_time\": 667.8902628421783, \"train_auc\": 0.9074529864092904, \"train_ratios\": null, \"test_auc\": 0.889766004658582, \"test_time\": 0.1887202262878418, \"test_scores\": null, \"test_raios\": null, \"validation_auc\": 0.8867665376838824, \"validation_time\": null, \"validation_scores\": null, \"validation_raios\": null',\n",
       " '{\"train_time\": 978.7280881404877, \"train_auc\": 0.9079346227698878, \"train_ratios\": null, \"test_auc\": 0.891152569354891, \"test_time\": 0.18662095069885254, \"test_scores\": null, \"test_raios\": null, \"validation_auc\": 0.8862986779814489, \"validation_time\": null, \"validation_scores\": null, \"validation_raios\": null',\n",
       " '{\"train_time\": 655.0189499855042, \"train_auc\": 0.907026113035785, \"train_ratios\": null, \"test_auc\": 0.8899024334221162, \"test_time\": 0.20510387420654297, \"test_scores\": null, \"test_raios\": null, \"validation_auc\": 0.8861043763328688, \"validation_time\": null, \"validation_scores\": null, \"validation_raios\": null',\n",
       " '{\"train_time\": 648.6579840183258, \"train_auc\": 0.9078559928844678, \"train_ratios\": null, \"test_auc\": 0.8925353650663644, \"test_time\": 0.1856379508972168, \"test_scores\": null, \"test_raios\": null, \"validation_auc\": 0.8856923058175501, \"validation_time\": null, \"validation_scores\": null, \"validation_raios\": null',\n",
       " '{\"train_time\": 643.9824290275574, \"train_auc\": 0.9073877185466166, \"train_ratios\": null, \"test_auc\": 0.8932660043933471, \"test_time\": 0.185014009475708, \"test_scores\": null, \"test_raios\": null, \"validation_auc\": 0.8871647513656218, \"validation_time\": null, \"validation_scores\": null, \"validation_raios\": null',\n",
       " '{\"train_time\": 640.2928838729858, \"train_auc\": 0.9076372064563437, \"train_ratios\": null, \"test_auc\": 0.8930718923911066, \"test_time\": 0.18615198135375977, \"test_scores\": null, \"test_raios\": null, \"validation_auc\": 0.8882115303116639, \"validation_time\": null, \"validation_scores\": null, \"validation_raios\": null',\n",
       " '{\"train_time\": 830.5207898616791, \"train_auc\": 0.9078235088511334, \"train_ratios\": null, \"test_auc\": 0.891210406429713, \"test_time\": 0.1828901767730713, \"test_scores\": null, \"test_raios\": null, \"validation_auc\": 0.8868274779519898, \"validation_time\": null, \"validation_scores\": null, \"validation_raios\": null',\n",
       " '{\"train_time\": 1900.2167837619781, \"train_auc\": 0.9063420582403908, \"train_ratios\": null, \"test_auc\": 0.8900790956346084, \"test_time\": 0.19333934783935547, \"test_scores\": null, \"test_raios\": null, \"validation_auc\": 0.8846184677322027, \"validation_time\": null, \"validation_scores\": null, \"validation_raios\": null',\n",
       " '{\"train_time\": 637.751855134964, \"train_auc\": 0.9094205532947948, \"train_ratios\": null, \"test_auc\": 0.8902395042657696, \"test_time\": 0.18522977828979492, \"test_scores\": null, \"test_raios\": null, \"validation_auc\": 0.8868220687848111, \"validation_time\": null, \"validation_scores\": null, \"validation_raios\": null',\n",
       " '']"
      ]
     },
     "metadata": {},
     "output_type": "display_data"
    }
   ],
   "source": [
    "#all data train, test and validation\n",
    "df_auc_enhanced_model = pd.DataFrame(index=np.arange(10))\n",
    "for i in range(len(experiments)):\n",
    "    exact_path = file_path + simulation + experiments[i] + '/results.json'\n",
    "    file1 = open(exact_path, 'r')\n",
    "    Lines = file1.readlines()\n",
    "    #display(i)\n",
    "    arr = Lines[0].split('}')\n",
    "    #display(arr)\n",
    "    dict_auc = {'train_auc_' + experiments[i]:[],\n",
    "            'validation_auc_' + experiments[i]:[],\n",
    "            'test_auc_' + experiments[i]:[]\n",
    "            }\n",
    "    for line in arr:\n",
    "        split_lines = line.split(', ')\n",
    "        for sl in split_lines:\n",
    "            if 'train_auc' in sl:\n",
    "                dict_auc['train_auc_' + experiments[i]].append(float(sl.split(': ')[1]))\n",
    "            if 'validation_auc' in sl:\n",
    "                dict_auc['validation_auc_' + experiments[i]].append(float(sl.split(': ')[1]))\n",
    "            if 'test_auc' in sl:\n",
    "                dict_auc['test_auc_' + experiments[i]].append(float(sl.split(': ')[1]))            \n",
    "    file1.close()\n",
    "    df_auc = pd.DataFrame(dict_auc)\n",
    "    df_auc_enhanced_model = df_auc_enhanced_model.join(df_auc)"
   ]
  },
  {
   "cell_type": "code",
   "execution_count": 74,
   "id": "5bdc2b22",
   "metadata": {},
   "outputs": [
    {
     "data": {
      "text/plain": [
       "train_auc_80_per_labeled_baseline_5_unlabeled_random_method_5            0.906835\n",
       "validation_auc_80_per_labeled_baseline_5_unlabeled_random_method_5       0.886994\n",
       "test_auc_80_per_labeled_baseline_5_unlabeled_random_method_5             0.891754\n",
       "train_auc_80_per_labeled_baseline_5_unlabeled_isolation_method_4         0.907699\n",
       "validation_auc_80_per_labeled_baseline_5_unlabeled_isolation_method_4    0.886649\n",
       "test_auc_80_per_labeled_baseline_5_unlabeled_isolation_method_4          0.891190\n",
       "dtype: float64"
      ]
     },
     "execution_count": 74,
     "metadata": {},
     "output_type": "execute_result"
    }
   ],
   "source": [
    "df_auc_enhanced_model.mean(axis=0)"
   ]
  },
  {
   "cell_type": "markdown",
   "id": "e46e1509",
   "metadata": {},
   "source": [
    "# deepocc enhancements evaluation"
   ]
  },
  {
   "cell_type": "code",
   "execution_count": 44,
   "id": "fe5b21a1",
   "metadata": {},
   "outputs": [],
   "source": [
    "simulation = 'deepsad to deepocc/'\n",
    "experiments = ['5_per_labeled_5_unlabeled_method_3','5_per_labeled_5_unlabeled_balanced_exclude_loss_method_6','5_per_labeled_5_unlabeled_exclude_balance_loss_method_6']"
   ]
  },
  {
   "cell_type": "code",
   "execution_count": 45,
   "id": "e5df90fc",
   "metadata": {},
   "outputs": [
    {
     "data": {
      "text/plain": [
       "0"
      ]
     },
     "metadata": {},
     "output_type": "display_data"
    },
    {
     "data": {
      "text/plain": [
       "['{\"train_time\": 96.47420811653137, \"train_auc\": 0.9236011826343453, \"train_ratios\": null, \"test_auc\": 0.8633255124466679, \"test_time\": 0.20284008979797363, \"test_scores\": null, \"test_raios\": null, \"validation_auc\": 0.8596649897627586, \"validation_time\": null, \"validation_scores\": null, \"validation_raios\": null',\n",
       " '{\"train_time\": 94.88988304138184, \"train_auc\": 0.9213506415165568, \"train_ratios\": null, \"test_auc\": 0.8501530191929121, \"test_time\": 0.18663668632507324, \"test_scores\": null, \"test_raios\": null, \"validation_auc\": 0.852099403411165, \"validation_time\": null, \"validation_scores\": null, \"validation_raios\": null',\n",
       " '{\"train_time\": 96.45630693435669, \"train_auc\": 0.9232517819330438, \"train_ratios\": null, \"test_auc\": 0.8676848062434123, \"test_time\": 0.19284296035766602, \"test_scores\": null, \"test_raios\": null, \"validation_auc\": 0.8643714521131457, \"validation_time\": null, \"validation_scores\": null, \"validation_raios\": null',\n",
       " '{\"train_time\": 96.45501708984375, \"train_auc\": 0.9204082219560874, \"train_ratios\": null, \"test_auc\": 0.8590196607860601, \"test_time\": 0.20014715194702148, \"test_scores\": null, \"test_raios\": null, \"validation_auc\": 0.854780094073213, \"validation_time\": null, \"validation_scores\": null, \"validation_raios\": null',\n",
       " '{\"train_time\": 94.78137516975403, \"train_auc\": 0.9324333443586621, \"train_ratios\": null, \"test_auc\": 0.8661846441850214, \"test_time\": 0.19448399543762207, \"test_scores\": null, \"test_raios\": null, \"validation_auc\": 0.8588029952045991, \"validation_time\": null, \"validation_scores\": null, \"validation_raios\": null',\n",
       " '{\"train_time\": 94.69516205787659, \"train_auc\": 0.9294394723215292, \"train_ratios\": null, \"test_auc\": 0.8534979468183244, \"test_time\": 0.19274282455444336, \"test_scores\": null, \"test_raios\": null, \"validation_auc\": 0.8531735927065802, \"validation_time\": null, \"validation_scores\": null, \"validation_raios\": null',\n",
       " '{\"train_time\": 94.88772773742676, \"train_auc\": 0.9275684155685091, \"train_ratios\": null, \"test_auc\": 0.8675049638670792, \"test_time\": 0.19855999946594238, \"test_scores\": null, \"test_raios\": null, \"validation_auc\": 0.8649155377036779, \"validation_time\": null, \"validation_scores\": null, \"validation_raios\": null',\n",
       " '{\"train_time\": 95.7728328704834, \"train_auc\": 0.9259378800355774, \"train_ratios\": null, \"test_auc\": 0.8648896597198166, \"test_time\": 0.19605517387390137, \"test_scores\": null, \"test_raios\": null, \"validation_auc\": 0.8588535508295687, \"validation_time\": null, \"validation_scores\": null, \"validation_raios\": null',\n",
       " '{\"train_time\": 96.47651410102844, \"train_auc\": 0.9311406704551766, \"train_ratios\": null, \"test_auc\": 0.8593171347439928, \"test_time\": 0.20586705207824707, \"test_scores\": null, \"test_raios\": null, \"validation_auc\": 0.8562442436137769, \"validation_time\": null, \"validation_scores\": null, \"validation_raios\": null',\n",
       " '{\"train_time\": 94.25585699081421, \"train_auc\": 0.9285555620599402, \"train_ratios\": null, \"test_auc\": 0.8590120485506781, \"test_time\": 0.18640875816345215, \"test_scores\": null, \"test_raios\": null, \"validation_auc\": 0.8588186799269398, \"validation_time\": null, \"validation_scores\": null, \"validation_raios\": null',\n",
       " '']"
      ]
     },
     "metadata": {},
     "output_type": "display_data"
    },
    {
     "data": {
      "text/plain": [
       "1"
      ]
     },
     "metadata": {},
     "output_type": "display_data"
    },
    {
     "data": {
      "text/plain": [
       "['{\"train_time\": 188.4264941215515, \"train_auc\": 0.9360670204388183, \"train_ratios\": null, \"test_auc\": 0.8579819751814605, \"test_time\": 0.3642899990081787, \"test_scores\": null, \"test_raios\": null, \"validation_auc\": 0.8553953396126855, \"validation_time\": null, \"validation_scores\": null, \"validation_raios\": null',\n",
       " '{\"train_time\": 188.06990003585815, \"train_auc\": 0.9317879268706208, \"train_ratios\": null, \"test_auc\": 0.8419927134728078, \"test_time\": 0.46262383460998535, \"test_scores\": null, \"test_raios\": null, \"validation_auc\": 0.8432970999839721, \"validation_time\": null, \"validation_scores\": null, \"validation_raios\": null',\n",
       " '{\"train_time\": 197.12656831741333, \"train_auc\": 0.9262219328911485, \"train_ratios\": null, \"test_auc\": 0.853982172516064, \"test_time\": 0.5861871242523193, \"test_scores\": null, \"test_raios\": null, \"validation_auc\": 0.8512434060309793, \"validation_time\": null, \"validation_scores\": null, \"validation_raios\": null',\n",
       " '{\"train_time\": 190.1793007850647, \"train_auc\": 0.9333487829176805, \"train_ratios\": null, \"test_auc\": 0.8500668868821822, \"test_time\": 0.36661195755004883, \"test_scores\": null, \"test_raios\": null, \"validation_auc\": 0.8484064481742717, \"validation_time\": null, \"validation_scores\": null, \"validation_raios\": null',\n",
       " '{\"train_time\": 188.3200261592865, \"train_auc\": 0.928833752306504, \"train_ratios\": null, \"test_auc\": 0.8563389179379807, \"test_time\": 0.3990626335144043, \"test_scores\": null, \"test_raios\": null, \"validation_auc\": 0.8545753519071665, \"validation_time\": null, \"validation_scores\": null, \"validation_raios\": null',\n",
       " '{\"train_time\": 200.67843914031982, \"train_auc\": 0.9309452560387024, \"train_ratios\": null, \"test_auc\": 0.8357847074169696, \"test_time\": 0.42428016662597656, \"test_scores\": null, \"test_raios\": null, \"validation_auc\": 0.8414970659059527, \"validation_time\": null, \"validation_scores\": null, \"validation_raios\": null',\n",
       " '{\"train_time\": 190.39059686660767, \"train_auc\": 0.9383280244480788, \"train_ratios\": null, \"test_auc\": 0.8475207241119014, \"test_time\": 0.3609168529510498, \"test_scores\": null, \"test_raios\": null, \"validation_auc\": 0.845216609341379, \"validation_time\": null, \"validation_scores\": null, \"validation_raios\": null',\n",
       " '{\"train_time\": 192.2723548412323, \"train_auc\": 0.922447467285568, \"train_ratios\": null, \"test_auc\": 0.84893759452301, \"test_time\": 0.5127758979797363, \"test_scores\": null, \"test_raios\": null, \"validation_auc\": 0.8426833470872872, \"validation_time\": null, \"validation_scores\": null, \"validation_raios\": null',\n",
       " '{\"train_time\": 195.47794198989868, \"train_auc\": 0.9273928492870509, \"train_ratios\": null, \"test_auc\": 0.8498959086489316, \"test_time\": 0.5346179008483887, \"test_scores\": null, \"test_raios\": null, \"validation_auc\": 0.8544162298003657, \"validation_time\": null, \"validation_scores\": null, \"validation_raios\": null',\n",
       " '{\"train_time\": 191.24475693702698, \"train_auc\": 0.9265092865619007, \"train_ratios\": null, \"test_auc\": 0.857692198334008, \"test_time\": 0.3181338310241699, \"test_scores\": null, \"test_raios\": null, \"validation_auc\": 0.853049104701681, \"validation_time\": null, \"validation_scores\": null, \"validation_raios\": null',\n",
       " '{\"train_time\": 188.75779509544373, \"train_auc\": 0.941141218515959, \"train_ratios\": null, \"test_auc\": 0.8533235629717529, \"test_time\": 0.4732060432434082, \"test_scores\": null, \"test_raios\": null, \"validation_auc\": 0.8531289970100315, \"validation_time\": null, \"validation_scores\": null, \"validation_raios\": null',\n",
       " '{\"train_time\": 191.42492485046387, \"train_auc\": 0.9286694252919274, \"train_ratios\": null, \"test_auc\": 0.8366725858206601, \"test_time\": 0.5128788948059082, \"test_scores\": null, \"test_raios\": null, \"validation_auc\": 0.8332668357867308, \"validation_time\": null, \"validation_scores\": null, \"validation_raios\": null',\n",
       " '{\"train_time\": 172.5311541557312, \"train_auc\": 0.9255747348712774, \"train_ratios\": null, \"test_auc\": 0.8482629568468475, \"test_time\": 0.2686350345611572, \"test_scores\": null, \"test_raios\": null, \"validation_auc\": 0.8409256364831059, \"validation_time\": null, \"validation_scores\": null, \"validation_raios\": null',\n",
       " '{\"train_time\": 173.48884677886963, \"train_auc\": 0.9360640145352667, \"train_ratios\": null, \"test_auc\": 0.8427615386370013, \"test_time\": 0.3211209774017334, \"test_scores\": null, \"test_raios\": null, \"validation_auc\": 0.842959504627778, \"validation_time\": null, \"validation_scores\": null, \"validation_raios\": null',\n",
       " '{\"train_time\": 174.2957901954651, \"train_auc\": 0.9371856937025828, \"train_ratios\": null, \"test_auc\": 0.8600357191546653, \"test_time\": 0.3416781425476074, \"test_scores\": null, \"test_raios\": null, \"validation_auc\": 0.8586740425747488, \"validation_time\": null, \"validation_scores\": null, \"validation_raios\": null',\n",
       " '{\"train_time\": 171.7229540348053, \"train_auc\": 0.9282658665763509, \"train_ratios\": null, \"test_auc\": 0.8564696786363541, \"test_time\": 0.3129143714904785, \"test_scores\": null, \"test_raios\": null, \"validation_auc\": 0.8537746275417231, \"validation_time\": null, \"validation_scores\": null, \"validation_raios\": null',\n",
       " '{\"train_time\": 170.8998818397522, \"train_auc\": 0.9336088786821289, \"train_ratios\": null, \"test_auc\": 0.859062233604916, \"test_time\": 0.2607853412628174, \"test_scores\": null, \"test_raios\": null, \"validation_auc\": 0.8545279571728058, \"validation_time\": null, \"validation_scores\": null, \"validation_raios\": null',\n",
       " '{\"train_time\": 158.03114485740662, \"train_auc\": 0.931709858497588, \"train_ratios\": null, \"test_auc\": 0.8494586188805718, \"test_time\": 0.286329984664917, \"test_scores\": null, \"test_raios\": null, \"validation_auc\": 0.8435046305451014, \"validation_time\": null, \"validation_scores\": null, \"validation_raios\": null',\n",
       " '{\"train_time\": 145.6198959350586, \"train_auc\": 0.9317874513108657, \"train_ratios\": null, \"test_auc\": 0.8623661002491614, \"test_time\": 0.24729299545288086, \"test_scores\": null, \"test_raios\": null, \"validation_auc\": 0.8531867657448006, \"validation_time\": null, \"validation_scores\": null, \"validation_raios\": null',\n",
       " '{\"train_time\": 147.58928990364075, \"train_auc\": 0.9354426173249378, \"train_ratios\": null, \"test_auc\": 0.8502499014653155, \"test_time\": 0.3076441287994385, \"test_scores\": null, \"test_raios\": null, \"validation_auc\": 0.8512639172310683, \"validation_time\": null, \"validation_scores\": null, \"validation_raios\": null',\n",
       " '{\"train_time\": 136.43836092948914, \"train_auc\": 0.9267771306491509, \"train_ratios\": null, \"test_auc\": 0.8538468153006461, \"test_time\": 0.23958396911621094, \"test_scores\": null, \"test_raios\": null, \"validation_auc\": 0.8408093806293386, \"validation_time\": null, \"validation_scores\": null, \"validation_raios\": null',\n",
       " '{\"train_time\": 122.44357895851135, \"train_auc\": 0.9309272112817906, \"train_ratios\": null, \"test_auc\": 0.8587351594564386, \"test_time\": 0.2610809803009033, \"test_scores\": null, \"test_raios\": null, \"validation_auc\": 0.8500895851740821, \"validation_time\": null, \"validation_scores\": null, \"validation_raios\": null',\n",
       " '{\"train_time\": 118.82268214225769, \"train_auc\": 0.929682950358991, \"train_ratios\": null, \"test_auc\": 0.8551021710519685, \"test_time\": 0.20583224296569824, \"test_scores\": null, \"test_raios\": null, \"validation_auc\": 0.8497945766992767, \"validation_time\": null, \"validation_scores\": null, \"validation_raios\": null',\n",
       " '{\"train_time\": 105.05989503860474, \"train_auc\": 0.9283854741932209, \"train_ratios\": null, \"test_auc\": 0.8586236813194683, \"test_time\": 0.1720900535583496, \"test_scores\": null, \"test_raios\": null, \"validation_auc\": 0.852563602014711, \"validation_time\": null, \"validation_scores\": null, \"validation_raios\": null',\n",
       " '{\"train_time\": 93.63066911697388, \"train_auc\": 0.931172395175585, \"train_ratios\": null, \"test_auc\": 0.8491930075650236, \"test_time\": 0.1723308563232422, \"test_scores\": null, \"test_raios\": null, \"validation_auc\": 0.845474243211482, \"validation_time\": null, \"validation_scores\": null, \"validation_raios\": null',\n",
       " '']"
      ]
     },
     "metadata": {},
     "output_type": "display_data"
    },
    {
     "data": {
      "text/plain": [
       "2"
      ]
     },
     "metadata": {},
     "output_type": "display_data"
    },
    {
     "data": {
      "text/plain": [
       "['{\"train_time\": 180.2931981086731, \"train_auc\": 0.5757839668545546, \"train_ratios\": null, \"test_auc\": 0.4971114988252756, \"test_time\": 0.3842458724975586, \"test_scores\": null, \"test_raios\": null, \"validation_auc\": 0.4914520285361373, \"validation_time\": null, \"validation_scores\": null, \"validation_raios\": null',\n",
       " '{\"train_time\": 185.26691484451294, \"train_auc\": 0.5706739839508145, \"train_ratios\": null, \"test_auc\": 0.5022863415278471, \"test_time\": 0.3791208267211914, \"test_scores\": null, \"test_raios\": null, \"validation_auc\": 0.48360583864387785, \"validation_time\": null, \"validation_scores\": null, \"validation_raios\": null',\n",
       " '{\"train_time\": 187.77424836158752, \"train_auc\": 0.5832100141856307, \"train_ratios\": null, \"test_auc\": 0.47869304814593006, \"test_time\": 0.3898608684539795, \"test_scores\": null, \"test_raios\": null, \"validation_auc\": 0.46484459859137095, \"validation_time\": null, \"validation_scores\": null, \"validation_raios\": null',\n",
       " '{\"train_time\": 182.1881721019745, \"train_auc\": 0.5718324653788938, \"train_ratios\": null, \"test_auc\": 0.4771261371273917, \"test_time\": 0.40613579750061035, \"test_scores\": null, \"test_raios\": null, \"validation_auc\": 0.4737891899882568, \"validation_time\": null, \"validation_scores\": null, \"validation_raios\": null',\n",
       " '{\"train_time\": 163.51390886306763, \"train_auc\": 0.5866239200143637, \"train_ratios\": null, \"test_auc\": 0.48057321458599783, \"test_time\": 0.28624773025512695, \"test_scores\": null, \"test_raios\": null, \"validation_auc\": 0.4762120019974274, \"validation_time\": null, \"validation_scores\": null, \"validation_raios\": null',\n",
       " '{\"train_time\": 167.85654091835022, \"train_auc\": 0.5675034815124879, \"train_ratios\": null, \"test_auc\": 0.49558460641560265, \"test_time\": 0.28937697410583496, \"test_scores\": null, \"test_raios\": null, \"validation_auc\": 0.48292975128154425, \"validation_time\": null, \"validation_scores\": null, \"validation_raios\": null',\n",
       " '{\"train_time\": 142.52544403076172, \"train_auc\": 0.56929869438069, \"train_ratios\": null, \"test_auc\": 0.49925995014648916, \"test_time\": 0.2806687355041504, \"test_scores\": null, \"test_raios\": null, \"validation_auc\": 0.48974412058382605, \"validation_time\": null, \"validation_scores\": null, \"validation_raios\": null',\n",
       " '{\"train_time\": 139.0036940574646, \"train_auc\": 0.5841091880027467, \"train_ratios\": null, \"test_auc\": 0.48516426779578836, \"test_time\": 0.27316808700561523, \"test_scores\": null, \"test_raios\": null, \"validation_auc\": 0.4738681457364268, \"validation_time\": null, \"validation_scores\": null, \"validation_raios\": null',\n",
       " '{\"train_time\": 88.90423917770386, \"train_auc\": 0.5849430145526204, \"train_ratios\": null, \"test_auc\": 0.4911723107722944, \"test_time\": 0.1938920021057129, \"test_scores\": null, \"test_raios\": null, \"validation_auc\": 0.48067450904557496, \"validation_time\": null, \"validation_scores\": null, \"validation_raios\": null',\n",
       " '{\"train_time\": 87.52056694030762, \"train_auc\": 0.5860476912722082, \"train_ratios\": null, \"test_auc\": 0.4916237004163654, \"test_time\": 0.17969799041748047, \"test_scores\": null, \"test_raios\": null, \"validation_auc\": 0.5005943219336222, \"validation_time\": null, \"validation_scores\": null, \"validation_raios\": null',\n",
       " '{\"train_time\": 87.23012781143188, \"train_auc\": 0.5808210012859781, \"train_ratios\": null, \"test_auc\": 0.4944060864993955, \"test_time\": 0.1821889877319336, \"test_scores\": null, \"test_raios\": null, \"validation_auc\": 0.49090990652916544, \"validation_time\": null, \"validation_scores\": null, \"validation_raios\": null',\n",
       " '{\"train_time\": 87.4523458480835, \"train_auc\": 0.5818489144649688, \"train_ratios\": null, \"test_auc\": 0.4687360188168093, \"test_time\": 0.17867183685302734, \"test_scores\": null, \"test_raios\": null, \"validation_auc\": 0.47882451001406334, \"validation_time\": null, \"validation_scores\": null, \"validation_raios\": null',\n",
       " '{\"train_time\": 87.06061697006226, \"train_auc\": 0.5797765438760502, \"train_ratios\": null, \"test_auc\": 0.4740529159105268, \"test_time\": 0.17999601364135742, \"test_scores\": null, \"test_raios\": null, \"validation_auc\": 0.4726404350705177, \"validation_time\": null, \"validation_scores\": null, \"validation_raios\": null',\n",
       " '{\"train_time\": 88.36968898773193, \"train_auc\": 0.5798563598091047, \"train_ratios\": null, \"test_auc\": 0.47048835540174305, \"test_time\": 0.19192004203796387, \"test_scores\": null, \"test_raios\": null, \"validation_auc\": 0.4677161027474631, \"validation_time\": null, \"validation_scores\": null, \"validation_raios\": null',\n",
       " '']"
      ]
     },
     "metadata": {},
     "output_type": "display_data"
    }
   ],
   "source": [
    "#all data train, test and validation\n",
    "df_auc_enhanced_model = pd.DataFrame(index=np.arange(10))\n",
    "for i in range(len(experiments)):\n",
    "    exact_path = file_path + simulation + experiments[i] + '/results.json'\n",
    "    file1 = open(exact_path, 'r')\n",
    "    Lines = file1.readlines()\n",
    "    #display(i)\n",
    "    arr = Lines[0].split('}')\n",
    "    #display(arr)\n",
    "    dict_auc = {'train_auc_' + experiments[i]:[],\n",
    "            'validation_auc_' + experiments[i]:[],\n",
    "            'test_auc_' + experiments[i]:[]\n",
    "            }\n",
    "    for line in arr:\n",
    "        split_lines = line.split(', ')\n",
    "        for sl in split_lines:\n",
    "            if 'train_auc' in sl:\n",
    "                dict_auc['train_auc_' + experiments[i]].append(float(sl.split(': ')[1]))\n",
    "            if 'validation_auc' in sl:\n",
    "                dict_auc['validation_auc_' + experiments[i]].append(float(sl.split(': ')[1]))\n",
    "            if 'test_auc' in sl:\n",
    "                dict_auc['test_auc_' + experiments[i]].append(float(sl.split(': ')[1]))            \n",
    "    file1.close()\n",
    "    df_auc = pd.DataFrame(dict_auc)\n",
    "    df_auc_enhanced_model = df_auc_enhanced_model.join(df_auc)"
   ]
  },
  {
   "cell_type": "code",
   "execution_count": 46,
   "id": "a9e88d4b",
   "metadata": {},
   "outputs": [
    {
     "data": {
      "text/plain": [
       "train_auc_5_per_labeled_5_unlabeled_method_3                               0.926369\n",
       "validation_auc_5_per_labeled_5_unlabeled_method_3                          0.858172\n",
       "test_auc_5_per_labeled_5_unlabeled_method_3                                0.861059\n",
       "train_auc_5_per_labeled_5_unlabeled_balanced_exclude_loss_method_6         0.930188\n",
       "validation_auc_5_per_labeled_5_unlabeled_balanced_exclude_loss_method_6    0.848978\n",
       "test_auc_5_per_labeled_5_unlabeled_balanced_exclude_loss_method_6          0.850019\n",
       "train_auc_5_per_labeled_5_unlabeled_exclude_balance_loss_method_6          0.578003\n",
       "validation_auc_5_per_labeled_5_unlabeled_exclude_balance_loss_method_6     0.481771\n",
       "test_auc_5_per_labeled_5_unlabeled_exclude_balance_loss_method_6           0.489860\n",
       "dtype: float64"
      ]
     },
     "execution_count": 46,
     "metadata": {},
     "output_type": "execute_result"
    }
   ],
   "source": [
    "df_auc_enhanced_model.mean(axis=0)"
   ]
  },
  {
   "cell_type": "code",
   "execution_count": 47,
   "id": "72e849a7",
   "metadata": {},
   "outputs": [
    {
     "data": {
      "text/plain": [
       "train_auc_5_per_labeled_5_unlabeled_method_3                               0.004129\n",
       "validation_auc_5_per_labeled_5_unlabeled_method_3                          0.004275\n",
       "test_auc_5_per_labeled_5_unlabeled_method_3                                0.005954\n",
       "train_auc_5_per_labeled_5_unlabeled_balanced_exclude_loss_method_6         0.004862\n",
       "validation_auc_5_per_labeled_5_unlabeled_balanced_exclude_loss_method_6    0.005438\n",
       "test_auc_5_per_labeled_5_unlabeled_balanced_exclude_loss_method_6          0.007090\n",
       "train_auc_5_per_labeled_5_unlabeled_exclude_balance_loss_method_6          0.007705\n",
       "validation_auc_5_per_labeled_5_unlabeled_exclude_balance_loss_method_6     0.010334\n",
       "test_auc_5_per_labeled_5_unlabeled_exclude_balance_loss_method_6           0.008994\n",
       "dtype: float64"
      ]
     },
     "execution_count": 47,
     "metadata": {},
     "output_type": "execute_result"
    }
   ],
   "source": [
    "df_auc_enhanced_model.std(axis=0)"
   ]
  },
  {
   "cell_type": "code",
   "execution_count": null,
   "id": "b04a7bf2",
   "metadata": {},
   "outputs": [],
   "source": []
  },
  {
   "cell_type": "code",
   "execution_count": 48,
   "id": "183b0e4e",
   "metadata": {},
   "outputs": [
    {
     "data": {
      "text/html": [
       "<div>\n",
       "<style scoped>\n",
       "    .dataframe tbody tr th:only-of-type {\n",
       "        vertical-align: middle;\n",
       "    }\n",
       "\n",
       "    .dataframe tbody tr th {\n",
       "        vertical-align: top;\n",
       "    }\n",
       "\n",
       "    .dataframe thead th {\n",
       "        text-align: right;\n",
       "    }\n",
       "</style>\n",
       "<table border=\"1\" class=\"dataframe\">\n",
       "  <thead>\n",
       "    <tr style=\"text-align: right;\">\n",
       "      <th></th>\n",
       "      <th>test_auc_5_per_labeled_5_unlabeled_method_3</th>\n",
       "      <th>test_auc_5_per_labeled_5_unlabeled_balanced_exclude_loss_method_6</th>\n",
       "      <th>test_auc_5_per_labeled_5_unlabeled_exclude_balance_loss_method_6</th>\n",
       "    </tr>\n",
       "  </thead>\n",
       "  <tbody>\n",
       "    <tr>\n",
       "      <th>0</th>\n",
       "      <td>0.863326</td>\n",
       "      <td>0.857982</td>\n",
       "      <td>0.497111</td>\n",
       "    </tr>\n",
       "    <tr>\n",
       "      <th>1</th>\n",
       "      <td>0.850153</td>\n",
       "      <td>0.841993</td>\n",
       "      <td>0.502286</td>\n",
       "    </tr>\n",
       "    <tr>\n",
       "      <th>2</th>\n",
       "      <td>0.867685</td>\n",
       "      <td>0.853982</td>\n",
       "      <td>0.478693</td>\n",
       "    </tr>\n",
       "    <tr>\n",
       "      <th>3</th>\n",
       "      <td>0.859020</td>\n",
       "      <td>0.850067</td>\n",
       "      <td>0.477126</td>\n",
       "    </tr>\n",
       "    <tr>\n",
       "      <th>4</th>\n",
       "      <td>0.866185</td>\n",
       "      <td>0.856339</td>\n",
       "      <td>0.480573</td>\n",
       "    </tr>\n",
       "    <tr>\n",
       "      <th>5</th>\n",
       "      <td>0.853498</td>\n",
       "      <td>0.835785</td>\n",
       "      <td>0.495585</td>\n",
       "    </tr>\n",
       "    <tr>\n",
       "      <th>6</th>\n",
       "      <td>0.867505</td>\n",
       "      <td>0.847521</td>\n",
       "      <td>0.499260</td>\n",
       "    </tr>\n",
       "    <tr>\n",
       "      <th>7</th>\n",
       "      <td>0.864890</td>\n",
       "      <td>0.848938</td>\n",
       "      <td>0.485164</td>\n",
       "    </tr>\n",
       "    <tr>\n",
       "      <th>8</th>\n",
       "      <td>0.859317</td>\n",
       "      <td>0.849896</td>\n",
       "      <td>0.491172</td>\n",
       "    </tr>\n",
       "    <tr>\n",
       "      <th>9</th>\n",
       "      <td>0.859012</td>\n",
       "      <td>0.857692</td>\n",
       "      <td>0.491624</td>\n",
       "    </tr>\n",
       "  </tbody>\n",
       "</table>\n",
       "</div>"
      ],
      "text/plain": [
       "   test_auc_5_per_labeled_5_unlabeled_method_3  \\\n",
       "0                                     0.863326   \n",
       "1                                     0.850153   \n",
       "2                                     0.867685   \n",
       "3                                     0.859020   \n",
       "4                                     0.866185   \n",
       "5                                     0.853498   \n",
       "6                                     0.867505   \n",
       "7                                     0.864890   \n",
       "8                                     0.859317   \n",
       "9                                     0.859012   \n",
       "\n",
       "   test_auc_5_per_labeled_5_unlabeled_balanced_exclude_loss_method_6  \\\n",
       "0                                           0.857982                   \n",
       "1                                           0.841993                   \n",
       "2                                           0.853982                   \n",
       "3                                           0.850067                   \n",
       "4                                           0.856339                   \n",
       "5                                           0.835785                   \n",
       "6                                           0.847521                   \n",
       "7                                           0.848938                   \n",
       "8                                           0.849896                   \n",
       "9                                           0.857692                   \n",
       "\n",
       "   test_auc_5_per_labeled_5_unlabeled_exclude_balance_loss_method_6  \n",
       "0                                           0.497111                 \n",
       "1                                           0.502286                 \n",
       "2                                           0.478693                 \n",
       "3                                           0.477126                 \n",
       "4                                           0.480573                 \n",
       "5                                           0.495585                 \n",
       "6                                           0.499260                 \n",
       "7                                           0.485164                 \n",
       "8                                           0.491172                 \n",
       "9                                           0.491624                 "
      ]
     },
     "execution_count": 48,
     "metadata": {},
     "output_type": "execute_result"
    }
   ],
   "source": [
    "# only test results\n",
    "df_auc_enhanced_model_test = pd.DataFrame(index=np.arange(10))\n",
    "for i in range(len(experiments)):\n",
    "    exact_path = file_path + simulation + experiments[i] + '/results.json'\n",
    "    file1 = open(exact_path, 'r')\n",
    "    Lines = file1.readlines()\n",
    "    arr = Lines[0].split('}')\n",
    "    dict_auc = {\n",
    "            'test_auc_' + experiments[i]:[]\n",
    "            }\n",
    "    for line in arr:\n",
    "        split_lines = line.split(', ')\n",
    "        for sl in split_lines:\n",
    "            if 'test_auc' in sl:\n",
    "                dict_auc['test_auc_' + experiments[i]].append(float(sl.split(': ')[1]))         \n",
    "    file1.close()\n",
    "    df_auc = pd.DataFrame(dict_auc)\n",
    "    df_auc_enhanced_model_test = df_auc_enhanced_model_test.join(df_auc)\n",
    "df_auc_enhanced_model_test"
   ]
  },
  {
   "cell_type": "code",
   "execution_count": 49,
   "id": "9de8d3bb",
   "metadata": {},
   "outputs": [
    {
     "name": "stdout",
     "output_type": "stream",
     "text": [
      "WilcoxonResult(statistic=0.0, pvalue=0.001953125)\n",
      "WilcoxonResult(statistic=0.0, pvalue=0.001953125)\n"
     ]
    }
   ],
   "source": [
    "group5 = df_auc_enhanced_model_test['test_auc_5_per_labeled_5_unlabeled_method_3']\n",
    "group6 = df_auc_enhanced_model_test['test_auc_5_per_labeled_5_unlabeled_balanced_exclude_loss_method_6']\n",
    "group7 = df_auc_enhanced_model_test['test_auc_5_per_labeled_5_unlabeled_exclude_balance_loss_method_6']\n",
    "\n",
    "# conduct the Wilcoxon-Signed Rank Test\n",
    "print(stats.wilcoxon(group6, group5))\n",
    "print(stats.wilcoxon(group6, group7))"
   ]
  },
  {
   "cell_type": "code",
   "execution_count": 45,
   "id": "adffd8d9",
   "metadata": {},
   "outputs": [
    {
     "data": {
      "text/plain": [
       "{'whiskers': [<matplotlib.lines.Line2D at 0x125241c10>,\n",
       "  <matplotlib.lines.Line2D at 0x125241eb0>,\n",
       "  <matplotlib.lines.Line2D at 0x12524eeb0>,\n",
       "  <matplotlib.lines.Line2D at 0x12525a190>,\n",
       "  <matplotlib.lines.Line2D at 0x125268190>,\n",
       "  <matplotlib.lines.Line2D at 0x125268430>],\n",
       " 'caps': [<matplotlib.lines.Line2D at 0x12524e190>,\n",
       "  <matplotlib.lines.Line2D at 0x12524e430>,\n",
       "  <matplotlib.lines.Line2D at 0x12525a430>,\n",
       "  <matplotlib.lines.Line2D at 0x12525a6d0>,\n",
       "  <matplotlib.lines.Line2D at 0x1252686d0>,\n",
       "  <matplotlib.lines.Line2D at 0x125268970>],\n",
       " 'boxes': [<matplotlib.lines.Line2D at 0x125241970>,\n",
       "  <matplotlib.lines.Line2D at 0x12524ec10>,\n",
       "  <matplotlib.lines.Line2D at 0x12525aeb0>],\n",
       " 'medians': [<matplotlib.lines.Line2D at 0x12524e6d0>,\n",
       "  <matplotlib.lines.Line2D at 0x12525a970>,\n",
       "  <matplotlib.lines.Line2D at 0x125268c10>],\n",
       " 'fliers': [<matplotlib.lines.Line2D at 0x12524e970>,\n",
       "  <matplotlib.lines.Line2D at 0x12525ac10>,\n",
       "  <matplotlib.lines.Line2D at 0x125268eb0>],\n",
       " 'means': []}"
      ]
     },
     "execution_count": 45,
     "metadata": {},
     "output_type": "execute_result"
    },
    {
     "data": {
      "image/png": "[encoded data removed]",
      "text/plain": [
       "<Figure size 640x480 with 1 Axes>"
      ]
     },
     "metadata": {},
     "output_type": "display_data"
    }
   ],
   "source": [
    "fig1, ax1 = plt.subplots()\n",
    "ax1.set_title('Test AUC of DeepOCC (enhanced model) versus DeepSAD (original)')\n",
    "ax1.boxplot(df_auc_enhanced_model_test)"
   ]
  },
  {
   "cell_type": "markdown",
   "id": "cf0191e4",
   "metadata": {},
   "source": [
    "# smote multiplier evaluation"
   ]
  },
  {
   "cell_type": "code",
   "execution_count": 66,
   "id": "148683ba",
   "metadata": {},
   "outputs": [],
   "source": [
    "simulation = 'smote multiplier/'\n",
    "experiments = ['5_per_labeled_5_unlabeled_smote_m1_method_6','5_per_labeled_5_unlabeled_smote_m1.5_method_6','5_per_labeled_5_unlabeled_smote_m4_method_3','5_per_labeled_5_unlabeled_smote_m6_method_6','5_per_labeled_5_unlabeled_smote_m8_method_6']"
   ]
  },
  {
   "cell_type": "code",
   "execution_count": 67,
   "id": "0a825fca",
   "metadata": {},
   "outputs": [
    {
     "data": {
      "text/plain": [
       "0"
      ]
     },
     "metadata": {},
     "output_type": "display_data"
    },
    {
     "data": {
      "text/plain": [
       "['{\"train_time\": 28.123379230499268, \"train_auc\": 0.8917279758958219, \"train_ratios\": null, \"test_auc\": 0.8585588234826057, \"test_time\": 0.1849510669708252, \"test_scores\": null, \"test_raios\": null, \"validation_auc\": 0.8567489298203528, \"validation_time\": null, \"validation_scores\": null, \"validation_raios\": null',\n",
       " '{\"train_time\": 28.026215076446533, \"train_auc\": 0.891976231303641, \"train_ratios\": null, \"test_auc\": 0.8553339835119512, \"test_time\": 0.18672919273376465, \"test_scores\": null, \"test_raios\": null, \"validation_auc\": 0.8508013123762384, \"validation_time\": null, \"validation_scores\": null, \"validation_raios\": null',\n",
       " '{\"train_time\": 28.433758020401, \"train_auc\": 0.8847802085099707, \"train_ratios\": null, \"test_auc\": 0.8663103946002463, \"test_time\": 0.20513510704040527, \"test_scores\": null, \"test_raios\": null, \"validation_auc\": 0.8619380159994278, \"validation_time\": null, \"validation_scores\": null, \"validation_raios\": null',\n",
       " '{\"train_time\": 28.799360036849976, \"train_auc\": 0.8977199874862075, \"train_ratios\": null, \"test_auc\": 0.8608443480876313, \"test_time\": 0.19749116897583008, \"test_scores\": null, \"test_raios\": null, \"validation_auc\": 0.8529964019060703, \"validation_time\": null, \"validation_scores\": null, \"validation_raios\": null',\n",
       " '{\"train_time\": 28.223971843719482, \"train_auc\": 0.8879251960013513, \"train_ratios\": null, \"test_auc\": 0.8687653272492034, \"test_time\": 0.18759775161743164, \"test_scores\": null, \"test_raios\": null, \"validation_auc\": 0.8661568072067454, \"validation_time\": null, \"validation_scores\": null, \"validation_raios\": null',\n",
       " '{\"train_time\": 28.820500135421753, \"train_auc\": 0.8868355911648853, \"train_ratios\": null, \"test_auc\": 0.8627065979249099, \"test_time\": 0.19992923736572266, \"test_scores\": null, \"test_raios\": null, \"validation_auc\": 0.860010096225173, \"validation_time\": null, \"validation_scores\": null, \"validation_raios\": null',\n",
       " '{\"train_time\": 28.235921144485474, \"train_auc\": 0.8916452684732825, \"train_ratios\": null, \"test_auc\": 0.8702885116780178, \"test_time\": 0.19270086288452148, \"test_scores\": null, \"test_raios\": null, \"validation_auc\": 0.8649957306691317, \"validation_time\": null, \"validation_scores\": null, \"validation_raios\": null',\n",
       " '{\"train_time\": 27.952271938323975, \"train_auc\": 0.8751848626070318, \"train_ratios\": null, \"test_auc\": 0.8712510297736541, \"test_time\": 0.18801116943359375, \"test_scores\": null, \"test_raios\": null, \"validation_auc\": 0.8639785864028917, \"validation_time\": null, \"validation_scores\": null, \"validation_raios\": null',\n",
       " '{\"train_time\": 28.042022943496704, \"train_auc\": 0.8774016509657849, \"train_ratios\": null, \"test_auc\": 0.8617649034041812, \"test_time\": 0.1877751350402832, \"test_scores\": null, \"test_raios\": null, \"validation_auc\": 0.8539617320445981, \"validation_time\": null, \"validation_scores\": null, \"validation_raios\": null',\n",
       " '{\"train_time\": 28.30591893196106, \"train_auc\": 0.8927290528210836, \"train_ratios\": null, \"test_auc\": 0.8619807911738385, \"test_time\": 0.19194698333740234, \"test_scores\": null, \"test_raios\": null, \"validation_auc\": 0.8628427783653746, \"validation_time\": null, \"validation_scores\": null, \"validation_raios\": null',\n",
       " '']"
      ]
     },
     "metadata": {},
     "output_type": "display_data"
    },
    {
     "data": {
      "text/plain": [
       "1"
      ]
     },
     "metadata": {},
     "output_type": "display_data"
    },
    {
     "data": {
      "text/plain": [
       "['{\"train_time\": 28.845435857772827, \"train_auc\": 0.890961945562974, \"train_ratios\": null, \"test_auc\": 0.8624794615523761, \"test_time\": 0.20440125465393066, \"test_scores\": null, \"test_raios\": null, \"validation_auc\": 0.8592963336010335, \"validation_time\": null, \"validation_scores\": null, \"validation_raios\": null',\n",
       " '{\"train_time\": 28.390374898910522, \"train_auc\": 0.8950259641685987, \"train_ratios\": null, \"test_auc\": 0.857017539439071, \"test_time\": 0.19691705703735352, \"test_scores\": null, \"test_raios\": null, \"validation_auc\": 0.8552490180485789, \"validation_time\": null, \"validation_scores\": null, \"validation_raios\": null',\n",
       " '{\"train_time\": 153.60007119178772, \"train_auc\": 0.9009234495322237, \"train_ratios\": null, \"test_auc\": 0.8727940272332362, \"test_time\": 0.21466326713562012, \"test_scores\": null, \"test_raios\": null, \"validation_auc\": 0.8659017941087386, \"validation_time\": null, \"validation_scores\": null, \"validation_raios\": null',\n",
       " '{\"train_time\": 29.51175284385681, \"train_auc\": 0.8933518947107638, \"train_ratios\": null, \"test_auc\": 0.8622376656589517, \"test_time\": 0.20135903358459473, \"test_scores\": null, \"test_raios\": null, \"validation_auc\": 0.8575932388230588, \"validation_time\": null, \"validation_scores\": null, \"validation_raios\": null',\n",
       " '{\"train_time\": 28.309467315673828, \"train_auc\": 0.8981233148717507, \"train_ratios\": null, \"test_auc\": 0.8656556230017882, \"test_time\": 0.19225788116455078, \"test_scores\": null, \"test_raios\": null, \"validation_auc\": 0.8635625142213469, \"validation_time\": null, \"validation_scores\": null, \"validation_raios\": null',\n",
       " '{\"train_time\": 29.0202157497406, \"train_auc\": 0.8815625989626996, \"train_ratios\": null, \"test_auc\": 0.8626149672992162, \"test_time\": 0.20879411697387695, \"test_scores\": null, \"test_raios\": null, \"validation_auc\": 0.8605380873482853, \"validation_time\": null, \"validation_scores\": null, \"validation_raios\": null',\n",
       " '{\"train_time\": 28.209343910217285, \"train_auc\": 0.8960185927330617, \"train_ratios\": null, \"test_auc\": 0.8670851504119359, \"test_time\": 0.18463587760925293, \"test_scores\": null, \"test_raios\": null, \"validation_auc\": 0.8618473665524135, \"validation_time\": null, \"validation_scores\": null, \"validation_raios\": null',\n",
       " '{\"train_time\": 28.379354000091553, \"train_auc\": 0.8976712731469669, \"train_ratios\": null, \"test_auc\": 0.8678208663307381, \"test_time\": 0.19092416763305664, \"test_scores\": null, \"test_raios\": null, \"validation_auc\": 0.8658054348374418, \"validation_time\": null, \"validation_scores\": null, \"validation_raios\": null',\n",
       " '{\"train_time\": 28.75784206390381, \"train_auc\": 0.8873063406835868, \"train_ratios\": null, \"test_auc\": 0.8620953964277132, \"test_time\": 0.19839000701904297, \"test_scores\": null, \"test_raios\": null, \"validation_auc\": 0.8551160451277267, \"validation_time\": null, \"validation_scores\": null, \"validation_raios\": null',\n",
       " '{\"train_time\": 28.672651052474976, \"train_auc\": 0.8917507749156323, \"train_ratios\": null, \"test_auc\": 0.8660518517889814, \"test_time\": 0.19198894500732422, \"test_scores\": null, \"test_raios\": null, \"validation_auc\": 0.8610954124940958, \"validation_time\": null, \"validation_scores\": null, \"validation_raios\": null',\n",
       " '']"
      ]
     },
     "metadata": {},
     "output_type": "display_data"
    },
    {
     "data": {
      "text/plain": [
       "2"
      ]
     },
     "metadata": {},
     "output_type": "display_data"
    },
    {
     "data": {
      "text/plain": [
       "['{\"train_time\": 29.326417922973633, \"train_auc\": 0.8951605720078402, \"train_ratios\": null, \"test_auc\": 0.8655613824668205, \"test_time\": 0.18597078323364258, \"test_scores\": null, \"test_raios\": null, \"validation_auc\": 0.8604587298370832, \"validation_time\": null, \"validation_scores\": null, \"validation_raios\": null',\n",
       " '{\"train_time\": 30.067753076553345, \"train_auc\": 0.9086617609420072, \"train_ratios\": null, \"test_auc\": 0.8605674722551262, \"test_time\": 0.20526599884033203, \"test_scores\": null, \"test_raios\": null, \"validation_auc\": 0.8605960689376406, \"validation_time\": null, \"validation_scores\": null, \"validation_raios\": null',\n",
       " '{\"train_time\": 29.86693811416626, \"train_auc\": 0.8764203253358719, \"train_ratios\": null, \"test_auc\": 0.8583316897624188, \"test_time\": 0.2061767578125, \"test_scores\": null, \"test_raios\": null, \"validation_auc\": 0.8544185020230765, \"validation_time\": null, \"validation_scores\": null, \"validation_raios\": null',\n",
       " '{\"train_time\": 29.10867214202881, \"train_auc\": 0.9002784137519312, \"train_ratios\": null, \"test_auc\": 0.8638540217269642, \"test_time\": 0.18442797660827637, \"test_scores\": null, \"test_raios\": null, \"validation_auc\": 0.860466067998952, \"validation_time\": null, \"validation_scores\": null, \"validation_raios\": null',\n",
       " '{\"train_time\": 29.140112161636353, \"train_auc\": 0.8994926504347572, \"train_ratios\": null, \"test_auc\": 0.8580561586697525, \"test_time\": 0.18435192108154297, \"test_scores\": null, \"test_raios\": null, \"validation_auc\": 0.8519947082221258, \"validation_time\": null, \"validation_scores\": null, \"validation_raios\": null',\n",
       " '{\"train_time\": 29.263468027114868, \"train_auc\": 0.9110909815280908, \"train_ratios\": null, \"test_auc\": 0.8752824245420591, \"test_time\": 0.18828320503234863, \"test_scores\": null, \"test_raios\": null, \"validation_auc\": 0.8720266316208686, \"validation_time\": null, \"validation_scores\": null, \"validation_raios\": null',\n",
       " '{\"train_time\": 29.416577100753784, \"train_auc\": 0.9097644306494257, \"train_ratios\": null, \"test_auc\": 0.8700727114358053, \"test_time\": 0.18764376640319824, \"test_scores\": null, \"test_raios\": null, \"validation_auc\": 0.8647936385426869, \"validation_time\": null, \"validation_scores\": null, \"validation_raios\": null',\n",
       " '{\"train_time\": 29.130117893218994, \"train_auc\": 0.9033681540966939, \"train_ratios\": null, \"test_auc\": 0.871271078863289, \"test_time\": 0.18487811088562012, \"test_scores\": null, \"test_raios\": null, \"validation_auc\": 0.8658399492086385, \"validation_time\": null, \"validation_scores\": null, \"validation_raios\": null',\n",
       " '{\"train_time\": 29.652245044708252, \"train_auc\": 0.903498802186456, \"train_ratios\": null, \"test_auc\": 0.8557675944752677, \"test_time\": 0.19383788108825684, \"test_scores\": null, \"test_raios\": null, \"validation_auc\": 0.850347187115997, \"validation_time\": null, \"validation_scores\": null, \"validation_raios\": null',\n",
       " '{\"train_time\": 29.99051809310913, \"train_auc\": 0.906881431783174, \"train_ratios\": null, \"test_auc\": 0.8625616286046057, \"test_time\": 0.20955395698547363, \"test_scores\": null, \"test_raios\": null, \"validation_auc\": 0.8609930001704964, \"validation_time\": null, \"validation_scores\": null, \"validation_raios\": null',\n",
       " '']"
      ]
     },
     "metadata": {},
     "output_type": "display_data"
    },
    {
     "data": {
      "text/plain": [
       "3"
      ]
     },
     "metadata": {},
     "output_type": "display_data"
    },
    {
     "data": {
      "text/plain": [
       "['{\"train_time\": 28.31515121459961, \"train_auc\": 0.8801558667798527, \"train_ratios\": null, \"test_auc\": 0.8539721572544603, \"test_time\": 0.1845400333404541, \"test_scores\": null, \"test_raios\": null, \"validation_auc\": 0.8479176701873524, \"validation_time\": null, \"validation_scores\": null, \"validation_raios\": null',\n",
       " '{\"train_time\": 37.97456502914429, \"train_auc\": 0.8988075874472586, \"train_ratios\": null, \"test_auc\": 0.8534223761526437, \"test_time\": 0.22276926040649414, \"test_scores\": null, \"test_raios\": null, \"validation_auc\": 0.8497728069964452, \"validation_time\": null, \"validation_scores\": null, \"validation_raios\": null',\n",
       " '{\"train_time\": 39.04182410240173, \"train_auc\": 0.8983364793160541, \"train_ratios\": null, \"test_auc\": 0.8710435287246507, \"test_time\": 0.3088200092315674, \"test_scores\": null, \"test_raios\": null, \"validation_auc\": 0.865150031619549, \"validation_time\": null, \"validation_scores\": null, \"validation_raios\": null',\n",
       " '{\"train_time\": 37.72711229324341, \"train_auc\": 0.9018442198389547, \"train_ratios\": null, \"test_auc\": 0.8508054328550444, \"test_time\": 0.23720979690551758, \"test_scores\": null, \"test_raios\": null, \"validation_auc\": 0.8514678877992391, \"validation_time\": null, \"validation_scores\": null, \"validation_raios\": null',\n",
       " '{\"train_time\": 38.0668830871582, \"train_auc\": 0.9018619026699437, \"train_ratios\": null, \"test_auc\": 0.8502825173741977, \"test_time\": 0.22237300872802734, \"test_scores\": null, \"test_raios\": null, \"validation_auc\": 0.8451912876276357, \"validation_time\": null, \"validation_scores\": null, \"validation_raios\": null',\n",
       " '{\"train_time\": 38.46362113952637, \"train_auc\": 0.9025154156672169, \"train_ratios\": null, \"test_auc\": 0.867939574765148, \"test_time\": 0.2642791271209717, \"test_scores\": null, \"test_raios\": null, \"validation_auc\": 0.8640025644720579, \"validation_time\": null, \"validation_scores\": null, \"validation_raios\": null',\n",
       " '{\"train_time\": 37.89628195762634, \"train_auc\": 0.9117019510412493, \"train_ratios\": null, \"test_auc\": 0.8683782092733472, \"test_time\": 0.2071230411529541, \"test_scores\": null, \"test_raios\": null, \"validation_auc\": 0.8656487392729271, \"validation_time\": null, \"validation_scores\": null, \"validation_raios\": null',\n",
       " '{\"train_time\": 38.934239864349365, \"train_auc\": 0.9008475428060982, \"train_ratios\": null, \"test_auc\": 0.8589286428524824, \"test_time\": 0.22959613800048828, \"test_scores\": null, \"test_raios\": null, \"validation_auc\": 0.855250215355628, \"validation_time\": null, \"validation_scores\": null, \"validation_raios\": null',\n",
       " '{\"train_time\": 37.884928941726685, \"train_auc\": 0.9063427380558386, \"train_ratios\": null, \"test_auc\": 0.8522157625788875, \"test_time\": 0.20438814163208008, \"test_scores\": null, \"test_raios\": null, \"validation_auc\": 0.8494127554813781, \"validation_time\": null, \"validation_scores\": null, \"validation_raios\": null',\n",
       " '{\"train_time\": 37.71713709831238, \"train_auc\": 0.9139315830686618, \"train_ratios\": null, \"test_auc\": 0.8722410049636019, \"test_time\": 0.22622895240783691, \"test_scores\": null, \"test_raios\": null, \"validation_auc\": 0.8692189519125304, \"validation_time\": null, \"validation_scores\": null, \"validation_raios\": null',\n",
       " '{\"train_time\": 38.796379804611206, \"train_auc\": 0.9083767250087801, \"train_ratios\": null, \"test_auc\": 0.8661194866329678, \"test_time\": 0.24296998977661133, \"test_scores\": null, \"test_raios\": null, \"validation_auc\": 0.8617093729240025, \"validation_time\": null, \"validation_scores\": null, \"validation_raios\": null',\n",
       " '{\"train_time\": 38.32547879219055, \"train_auc\": 0.9014311748082358, \"train_ratios\": null, \"test_auc\": 0.8547818577355428, \"test_time\": 0.22649598121643066, \"test_scores\": null, \"test_raios\": null, \"validation_auc\": 0.8515312200207619, \"validation_time\": null, \"validation_scores\": null, \"validation_raios\": null',\n",
       " '{\"train_time\": 37.586228132247925, \"train_auc\": 0.9014909578658254, \"train_ratios\": null, \"test_auc\": 0.8647941301442931, \"test_time\": 0.22910118103027344, \"test_scores\": null, \"test_raios\": null, \"validation_auc\": 0.861904392956812, \"validation_time\": null, \"validation_scores\": null, \"validation_raios\": null',\n",
       " '{\"train_time\": 38.74048733711243, \"train_auc\": 0.9185605339161582, \"train_ratios\": null, \"test_auc\": 0.862681859486092, \"test_time\": 0.21296286582946777, \"test_scores\": null, \"test_raios\": null, \"validation_auc\": 0.8628605038310632, \"validation_time\": null, \"validation_scores\": null, \"validation_raios\": null',\n",
       " '{\"train_time\": 38.14663028717041, \"train_auc\": 0.9041570099096096, \"train_ratios\": null, \"test_auc\": 0.8600626563889995, \"test_time\": 0.2122969627380371, \"test_scores\": null, \"test_raios\": null, \"validation_auc\": 0.8560601430212538, \"validation_time\": null, \"validation_scores\": null, \"validation_raios\": null',\n",
       " '{\"train_time\": 39.54659104347229, \"train_auc\": 0.906674335485216, \"train_ratios\": null, \"test_auc\": 0.8663833606613468, \"test_time\": 0.24690508842468262, \"test_scores\": null, \"test_raios\": null, \"validation_auc\": 0.8604685796830723, \"validation_time\": null, \"validation_scores\": null, \"validation_raios\": null',\n",
       " '{\"train_time\": 37.77805709838867, \"train_auc\": 0.8990530862229744, \"train_ratios\": null, \"test_auc\": 0.8640748455140592, \"test_time\": 0.21297383308410645, \"test_scores\": null, \"test_raios\": null, \"validation_auc\": 0.858554551331267, \"validation_time\": null, \"validation_scores\": null, \"validation_raios\": null',\n",
       " '{\"train_time\": 30.615505933761597, \"train_auc\": 0.8984884028563247, \"train_ratios\": null, \"test_auc\": 0.859803660026428, \"test_time\": 0.18746376037597656, \"test_scores\": null, \"test_raios\": null, \"validation_auc\": 0.8544790272247402, \"validation_time\": null, \"validation_scores\": null, \"validation_raios\": null',\n",
       " '{\"train_time\": 30.079148769378662, \"train_auc\": 0.9033589405723301, \"train_ratios\": null, \"test_auc\": 0.8571979706363988, \"test_time\": 0.19371914863586426, \"test_scores\": null, \"test_raios\": null, \"validation_auc\": 0.8586731193179798, \"validation_time\": null, \"validation_scores\": null, \"validation_raios\": null',\n",
       " '']"
      ]
     },
     "metadata": {},
     "output_type": "display_data"
    },
    {
     "data": {
      "text/plain": [
       "4"
      ]
     },
     "metadata": {},
     "output_type": "display_data"
    },
    {
     "data": {
      "text/plain": [
       "['{\"train_time\": 31.569971799850464, \"train_auc\": 0.8917315790724851, \"train_ratios\": null, \"test_auc\": 0.8606624819706725, \"test_time\": 0.19238805770874023, \"test_scores\": null, \"test_raios\": null, \"validation_auc\": 0.8587514498058022, \"validation_time\": null, \"validation_scores\": null, \"validation_raios\": null',\n",
       " '{\"train_time\": 31.315152883529663, \"train_auc\": 0.9054218987915665, \"train_ratios\": null, \"test_auc\": 0.8582093635269422, \"test_time\": 0.19011688232421875, \"test_scores\": null, \"test_raios\": null, \"validation_auc\": 0.8559274947036458, \"validation_time\": null, \"validation_scores\": null, \"validation_raios\": null',\n",
       " '{\"train_time\": 31.254364013671875, \"train_auc\": 0.9084407937180267, \"train_ratios\": null, \"test_auc\": 0.8709592610137376, \"test_time\": 0.19057321548461914, \"test_scores\": null, \"test_raios\": null, \"validation_auc\": 0.8653388522625272, \"validation_time\": null, \"validation_scores\": null, \"validation_raios\": null',\n",
       " '{\"train_time\": 31.98590087890625, \"train_auc\": 0.904878143893036, \"train_ratios\": null, \"test_auc\": 0.8573552733694301, \"test_time\": 0.20522403717041016, \"test_scores\": null, \"test_raios\": null, \"validation_auc\": 0.8542083054582514, \"validation_time\": null, \"validation_scores\": null, \"validation_raios\": null',\n",
       " '{\"train_time\": 31.99415397644043, \"train_auc\": 0.9203028631345331, \"train_ratios\": null, \"test_auc\": 0.8637550573623047, \"test_time\": 0.20199084281921387, \"test_scores\": null, \"test_raios\": null, \"validation_auc\": 0.8627479569684654, \"validation_time\": null, \"validation_scores\": null, \"validation_raios\": null',\n",
       " '{\"train_time\": 31.598083019256592, \"train_auc\": 0.9086272988145927, \"train_ratios\": null, \"test_auc\": 0.8588194324720457, \"test_time\": 0.19181013107299805, \"test_scores\": null, \"test_raios\": null, \"validation_auc\": 0.8580325839929519, \"validation_time\": null, \"validation_scores\": null, \"validation_raios\": null',\n",
       " '{\"train_time\": 31.383819103240967, \"train_auc\": 0.916166393241132, \"train_ratios\": null, \"test_auc\": 0.8701237850262291, \"test_time\": 0.1871647834777832, \"test_scores\": null, \"test_raios\": null, \"validation_auc\": 0.8665678613414137, \"validation_time\": null, \"validation_scores\": null, \"validation_raios\": null',\n",
       " '{\"train_time\": 31.848423957824707, \"train_auc\": 0.9034231721027018, \"train_ratios\": null, \"test_auc\": 0.868962797122522, \"test_time\": 0.19492816925048828, \"test_scores\": null, \"test_raios\": null, \"validation_auc\": 0.8633118167500808, \"validation_time\": null, \"validation_scores\": null, \"validation_raios\": null',\n",
       " '{\"train_time\": 31.51715898513794, \"train_auc\": 0.9154766957496849, \"train_ratios\": null, \"test_auc\": 0.8620930809289368, \"test_time\": 0.19903182983398438, \"test_scores\": null, \"test_raios\": null, \"validation_auc\": 0.8554992206329316, \"validation_time\": null, \"validation_scores\": null, \"validation_raios\": null',\n",
       " '{\"train_time\": 31.400564193725586, \"train_auc\": 0.9085510862763827, \"train_ratios\": null, \"test_auc\": 0.8603754927397311, \"test_time\": 0.19034409523010254, \"test_scores\": null, \"test_raios\": null, \"validation_auc\": 0.8619871348559389, \"validation_time\": null, \"validation_scores\": null, \"validation_raios\": null',\n",
       " '']"
      ]
     },
     "metadata": {},
     "output_type": "display_data"
    }
   ],
   "source": [
    "#all data train, test and validation\n",
    "df_auc_enhanced_model = pd.DataFrame(index=np.arange(10))\n",
    "for i in range(len(experiments)):\n",
    "    exact_path = file_path + simulation + experiments[i] + '/results.json'\n",
    "    file1 = open(exact_path, 'r')\n",
    "    Lines = file1.readlines()\n",
    "    display(i)\n",
    "    arr = Lines[0].split('}')\n",
    "    display(arr)\n",
    "    dict_auc = {'train_auc_' + experiments[i]:[],\n",
    "            'validation_auc_' + experiments[i]:[],\n",
    "            'test_auc_' + experiments[i]:[]\n",
    "            }\n",
    "    for line in arr:\n",
    "        split_lines = line.split(', ')\n",
    "        for sl in split_lines:\n",
    "            if 'train_auc' in sl:\n",
    "                dict_auc['train_auc_' + experiments[i]].append(float(sl.split(': ')[1]))\n",
    "            if 'validation_auc' in sl:\n",
    "                dict_auc['validation_auc_' + experiments[i]].append(float(sl.split(': ')[1]))\n",
    "            if 'test_auc' in sl:\n",
    "                dict_auc['test_auc_' + experiments[i]].append(float(sl.split(': ')[1]))            \n",
    "    file1.close()\n",
    "    df_auc = pd.DataFrame(dict_auc)\n",
    "    df_auc_enhanced_model = df_auc_enhanced_model.join(df_auc)"
   ]
  },
  {
   "cell_type": "code",
   "execution_count": 68,
   "id": "4e28d90b",
   "metadata": {},
   "outputs": [
    {
     "data": {
      "text/plain": [
       "train_auc_5_per_labeled_5_unlabeled_smote_m1_method_6           0.887793\n",
       "validation_auc_5_per_labeled_5_unlabeled_smote_m1_method_6      0.859443\n",
       "test_auc_5_per_labeled_5_unlabeled_smote_m1_method_6            0.863780\n",
       "train_auc_5_per_labeled_5_unlabeled_smote_m1.5_method_6         0.893270\n",
       "validation_auc_5_per_labeled_5_unlabeled_smote_m1.5_method_6    0.860601\n",
       "test_auc_5_per_labeled_5_unlabeled_smote_m1.5_method_6          0.864585\n",
       "train_auc_5_per_labeled_5_unlabeled_smote_m4_method_3           0.901462\n",
       "validation_auc_5_per_labeled_5_unlabeled_smote_m4_method_3      0.860193\n",
       "test_auc_5_per_labeled_5_unlabeled_smote_m4_method_3            0.864133\n",
       "train_auc_5_per_labeled_5_unlabeled_smote_m6_method_6           0.901635\n",
       "validation_auc_5_per_labeled_5_unlabeled_smote_m6_method_6      0.856303\n",
       "test_auc_5_per_labeled_5_unlabeled_smote_m6_method_6            0.859923\n",
       "train_auc_5_per_labeled_5_unlabeled_smote_m8_method_6           0.908302\n",
       "validation_auc_5_per_labeled_5_unlabeled_smote_m8_method_6      0.860237\n",
       "test_auc_5_per_labeled_5_unlabeled_smote_m8_method_6            0.863132\n",
       "dtype: float64"
      ]
     },
     "execution_count": 68,
     "metadata": {},
     "output_type": "execute_result"
    }
   ],
   "source": [
    "df_auc_enhanced_model.mean(axis=0)"
   ]
  },
  {
   "cell_type": "code",
   "execution_count": 69,
   "id": "7d3d5d8d",
   "metadata": {},
   "outputs": [
    {
     "data": {
      "text/plain": [
       "train_auc_5_per_labeled_5_unlabeled_smote_m1_method_6           0.007053\n",
       "validation_auc_5_per_labeled_5_unlabeled_smote_m1_method_6      0.005458\n",
       "test_auc_5_per_labeled_5_unlabeled_smote_m1_method_6            0.005219\n",
       "train_auc_5_per_labeled_5_unlabeled_smote_m1.5_method_6         0.005700\n",
       "validation_auc_5_per_labeled_5_unlabeled_smote_m1.5_method_6    0.003876\n",
       "test_auc_5_per_labeled_5_unlabeled_smote_m1.5_method_6          0.004278\n",
       "train_auc_5_per_labeled_5_unlabeled_smote_m4_method_3           0.010125\n",
       "validation_auc_5_per_labeled_5_unlabeled_smote_m4_method_3      0.006596\n",
       "test_auc_5_per_labeled_5_unlabeled_smote_m4_method_3            0.006398\n",
       "train_auc_5_per_labeled_5_unlabeled_smote_m6_method_6           0.009168\n",
       "validation_auc_5_per_labeled_5_unlabeled_smote_m6_method_6      0.008820\n",
       "test_auc_5_per_labeled_5_unlabeled_smote_m6_method_6            0.008977\n",
       "train_auc_5_per_labeled_5_unlabeled_smote_m8_method_6           0.008000\n",
       "validation_auc_5_per_labeled_5_unlabeled_smote_m8_method_6      0.004338\n",
       "test_auc_5_per_labeled_5_unlabeled_smote_m8_method_6            0.005115\n",
       "dtype: float64"
      ]
     },
     "execution_count": 69,
     "metadata": {},
     "output_type": "execute_result"
    }
   ],
   "source": [
    "df_auc_enhanced_model.std(axis=0)"
   ]
  },
  {
   "cell_type": "code",
   "execution_count": null,
   "id": "ea8c1c5a",
   "metadata": {},
   "outputs": [],
   "source": [
    "### smote multiplier evaluation - excluding balanced batches"
   ]
  },
  {
   "cell_type": "code",
   "execution_count": 51,
   "id": "6d5832a4",
   "metadata": {},
   "outputs": [],
   "source": [
    "simulation = 'smote multiplier excluding balanced batch/'\n",
    "experiments = ['5_per_labeled_5_unlabeled_smote_m1_exc_balanced_batch_method_6','5_per_labeled_5_unlabeled_smote_m2_exc_balanced_batch_method_6','5_per_labeled_5_unlabeled_smote_m4_exc_balanced_batch_method_6','5_per_labeled_5_unlabeled_smote_m8_exc_balanced_batch_method_6']"
   ]
  },
  {
   "cell_type": "code",
   "execution_count": 52,
   "id": "e44f439b",
   "metadata": {},
   "outputs": [
    {
     "data": {
      "text/plain": [
       "0"
      ]
     },
     "metadata": {},
     "output_type": "display_data"
    },
    {
     "data": {
      "text/plain": [
       "['{\"train_time\": 38.07568693161011, \"train_auc\": 0.8185601026833418, \"train_ratios\": null, \"test_auc\": 0.8552069228373957, \"test_time\": 0.24338722229003906, \"test_scores\": null, \"test_raios\": null, \"validation_auc\": 0.8498809610725148, \"validation_time\": null, \"validation_scores\": null, \"validation_raios\": null',\n",
       " '{\"train_time\": 28.906572103500366, \"train_auc\": 0.557459697482366, \"train_ratios\": null, \"test_auc\": 0.4946122242421317, \"test_time\": 0.18555212020874023, \"test_scores\": null, \"test_raios\": null, \"validation_auc\": 0.49315960656383945, \"validation_time\": null, \"validation_scores\": null, \"validation_raios\": null',\n",
       " '{\"train_time\": 28.051973819732666, \"train_auc\": 0.5418929859864537, \"train_ratios\": null, \"test_auc\": 0.495448811562959, \"test_time\": 0.1915121078491211, \"test_scores\": null, \"test_raios\": null, \"validation_auc\": 0.48577620245280856, \"validation_time\": null, \"validation_scores\": null, \"validation_raios\": null',\n",
       " '{\"train_time\": 28.21249485015869, \"train_auc\": 0.5551178581841644, \"train_ratios\": null, \"test_auc\": 0.43584882259672186, \"test_time\": 0.19449901580810547, \"test_scores\": null, \"test_raios\": null, \"validation_auc\": 0.43431990990716773, \"validation_time\": null, \"validation_scores\": null, \"validation_raios\": null',\n",
       " '']"
      ]
     },
     "metadata": {},
     "output_type": "display_data"
    },
    {
     "data": {
      "text/plain": [
       "1"
      ]
     },
     "metadata": {},
     "output_type": "display_data"
    },
    {
     "data": {
      "text/plain": [
       "['{\"train_time\": 28.42910408973694, \"train_auc\": 0.8477048710200392, \"train_ratios\": null, \"test_auc\": 0.8601000438698164, \"test_time\": 0.19492197036743164, \"test_scores\": null, \"test_raios\": null, \"validation_auc\": 0.854329001990829, \"validation_time\": null, \"validation_scores\": null, \"validation_raios\": null',\n",
       " '{\"train_time\": 28.25607967376709, \"train_auc\": 0.8478407240350898, \"train_ratios\": null, \"test_auc\": 0.8551100273032581, \"test_time\": 0.19017791748046875, \"test_scores\": null, \"test_raios\": null, \"validation_auc\": 0.8525565778133577, \"validation_time\": null, \"validation_scores\": null, \"validation_raios\": null',\n",
       " '{\"train_time\": 28.93914270401001, \"train_auc\": 0.840738713322542, \"train_ratios\": null, \"test_auc\": 0.8663890287265075, \"test_time\": 0.2027897834777832, \"test_scores\": null, \"test_raios\": null, \"validation_auc\": 0.855445924505161, \"validation_time\": null, \"validation_scores\": null, \"validation_raios\": null',\n",
       " '']"
      ]
     },
     "metadata": {},
     "output_type": "display_data"
    },
    {
     "data": {
      "text/plain": [
       "2"
      ]
     },
     "metadata": {},
     "output_type": "display_data"
    },
    {
     "data": {
      "text/plain": [
       "['{\"train_time\": 29.319823741912842, \"train_auc\": 0.8671283374964406, \"train_ratios\": null, \"test_auc\": 0.8658805446647249, \"test_time\": 0.18776798248291016, \"test_scores\": null, \"test_raios\": null, \"validation_auc\": 0.8594407820447791, \"validation_time\": null, \"validation_scores\": null, \"validation_raios\": null',\n",
       " '{\"train_time\": 29.84193205833435, \"train_auc\": 0.8800640794872207, \"train_ratios\": null, \"test_auc\": 0.8639284227076959, \"test_time\": 0.19841408729553223, \"test_scores\": null, \"test_raios\": null, \"validation_auc\": 0.8611657210246905, \"validation_time\": null, \"validation_scores\": null, \"validation_raios\": null',\n",
       " '{\"train_time\": 29.496056079864502, \"train_auc\": 0.86002388301125, \"train_ratios\": null, \"test_auc\": 0.8609376125589683, \"test_time\": 0.19389009475708008, \"test_scores\": null, \"test_raios\": null, \"validation_auc\": 0.8580188974430417, \"validation_time\": null, \"validation_scores\": null, \"validation_raios\": null',\n",
       " '']"
      ]
     },
     "metadata": {},
     "output_type": "display_data"
    },
    {
     "data": {
      "text/plain": [
       "3"
      ]
     },
     "metadata": {},
     "output_type": "display_data"
    },
    {
     "data": {
      "text/plain": [
       "['{\"train_time\": 39.247546672821045, \"train_auc\": 0.8957115507573601, \"train_ratios\": null, \"test_auc\": 0.8635211522006787, \"test_time\": 0.23952794075012207, \"test_scores\": null, \"test_raios\": null, \"validation_auc\": 0.8611443903344435, \"validation_time\": null, \"validation_scores\": null, \"validation_raios\": null',\n",
       " '{\"train_time\": 39.46287989616394, \"train_auc\": 0.8893007404475609, \"train_ratios\": null, \"test_auc\": 0.8741060954643277, \"test_time\": 0.20831894874572754, \"test_scores\": null, \"test_raios\": null, \"validation_auc\": 0.8643853249108193, \"validation_time\": null, \"validation_scores\": null, \"validation_raios\": null',\n",
       " '{\"train_time\": 38.93747282028198, \"train_auc\": 0.902230490582675, \"train_ratios\": null, \"test_auc\": 0.8709100254996625, \"test_time\": 0.2361431121826172, \"test_scores\": null, \"test_raios\": null, \"validation_auc\": 0.8663912479089698, \"validation_time\": null, \"validation_scores\": null, \"validation_raios\": null',\n",
       " '{\"train_time\": 38.97122406959534, \"train_auc\": 0.8949859137791282, \"train_ratios\": null, \"test_auc\": 0.8620659129404289, \"test_time\": 0.19360923767089844, \"test_scores\": null, \"test_raios\": null, \"validation_auc\": 0.8621527543489919, \"validation_time\": null, \"validation_scores\": null, \"validation_raios\": null',\n",
       " '{\"train_time\": 31.181726217269897, \"train_auc\": 0.8976471265867549, \"train_ratios\": null, \"test_auc\": 0.8728180654524931, \"test_time\": 0.19051599502563477, \"test_scores\": null, \"test_raios\": null, \"validation_auc\": 0.8646107192931185, \"validation_time\": null, \"validation_scores\": null, \"validation_raios\": null',\n",
       " '{\"train_time\": 31.293339729309082, \"train_auc\": 0.8948190243067294, \"train_ratios\": null, \"test_auc\": 0.8672182504802074, \"test_time\": 0.19464492797851562, \"test_scores\": null, \"test_raios\": null, \"validation_auc\": 0.8623002678987824, \"validation_time\": null, \"validation_scores\": null, \"validation_raios\": null',\n",
       " '{\"train_time\": 32.003679037094116, \"train_auc\": 0.9062264868305292, \"train_ratios\": null, \"test_auc\": 0.8657173431123593, \"test_time\": 0.20809197425842285, \"test_scores\": null, \"test_raios\": null, \"validation_auc\": 0.8665561596605224, \"validation_time\": null, \"validation_scores\": null, \"validation_raios\": null',\n",
       " '{\"train_time\": 31.26719093322754, \"train_auc\": 0.8995632823811212, \"train_ratios\": null, \"test_auc\": 0.8745568034552652, \"test_time\": 0.1899549961090088, \"test_scores\": null, \"test_raios\": null, \"validation_auc\": 0.8688454692730568, \"validation_time\": null, \"validation_scores\": null, \"validation_raios\": null',\n",
       " '{\"train_time\": 31.841620922088623, \"train_auc\": 0.901358116845281, \"train_ratios\": null, \"test_auc\": 0.8682522997173128, \"test_time\": 0.20277810096740723, \"test_scores\": null, \"test_raios\": null, \"validation_auc\": 0.8655629854814016, \"validation_time\": null, \"validation_scores\": null, \"validation_raios\": null',\n",
       " '{\"train_time\": 31.581664085388184, \"train_auc\": 0.8783381694309447, \"train_ratios\": null, \"test_auc\": 0.8650763584126872, \"test_time\": 0.2007429599761963, \"test_scores\": null, \"test_raios\": null, \"validation_auc\": 0.8634911760066905, \"validation_time\": null, \"validation_scores\": null, \"validation_raios\": null',\n",
       " '{\"train_time\": 31.872059106826782, \"train_auc\": 0.8906601460818241, \"train_ratios\": null, \"test_auc\": 0.8673430725740443, \"test_time\": 0.20314908027648926, \"test_scores\": null, \"test_raios\": null, \"validation_auc\": 0.8637156497929032, \"validation_time\": null, \"validation_scores\": null, \"validation_raios\": null',\n",
       " '{\"train_time\": 31.376734972000122, \"train_auc\": 0.8994007136510123, \"train_ratios\": null, \"test_auc\": 0.8695617713008646, \"test_time\": 0.2008349895477295, \"test_scores\": null, \"test_raios\": null, \"validation_auc\": 0.8673754369638591, \"validation_time\": null, \"validation_scores\": null, \"validation_raios\": null',\n",
       " '']"
      ]
     },
     "metadata": {},
     "output_type": "display_data"
    }
   ],
   "source": [
    "#all data train, test and validation\n",
    "df_auc_enhanced_model = pd.DataFrame(index=np.arange(3))\n",
    "for i in range(len(experiments)):\n",
    "    exact_path = file_path + simulation + experiments[i] + '/results.json'\n",
    "    file1 = open(exact_path, 'r')\n",
    "    Lines = file1.readlines()\n",
    "    display(i)\n",
    "    arr = Lines[0].split('}')\n",
    "    display(arr)\n",
    "    dict_auc = {'train_auc_' + experiments[i]:[],\n",
    "            'validation_auc_' + experiments[i]:[],\n",
    "            'test_auc_' + experiments[i]:[]\n",
    "            }\n",
    "    for line in arr:\n",
    "        split_lines = line.split(', ')\n",
    "        for sl in split_lines:\n",
    "            if 'train_auc' in sl:\n",
    "                dict_auc['train_auc_' + experiments[i]].append(float(sl.split(': ')[1]))\n",
    "            if 'validation_auc' in sl:\n",
    "                dict_auc['validation_auc_' + experiments[i]].append(float(sl.split(': ')[1]))\n",
    "            if 'test_auc' in sl:\n",
    "                dict_auc['test_auc_' + experiments[i]].append(float(sl.split(': ')[1]))            \n",
    "    file1.close()\n",
    "    df_auc = pd.DataFrame(dict_auc)\n",
    "    df_auc_enhanced_model = df_auc_enhanced_model.join(df_auc)"
   ]
  },
  {
   "cell_type": "code",
   "execution_count": 53,
   "id": "ace7ffe2",
   "metadata": {},
   "outputs": [
    {
     "data": {
      "text/plain": [
       "train_auc_5_per_labeled_5_unlabeled_smote_m1_exc_balanced_batch_method_6         0.639304\n",
       "validation_auc_5_per_labeled_5_unlabeled_smote_m1_exc_balanced_batch_method_6    0.609606\n",
       "test_auc_5_per_labeled_5_unlabeled_smote_m1_exc_balanced_batch_method_6          0.615089\n",
       "train_auc_5_per_labeled_5_unlabeled_smote_m2_exc_balanced_batch_method_6         0.845428\n",
       "validation_auc_5_per_labeled_5_unlabeled_smote_m2_exc_balanced_batch_method_6    0.854111\n",
       "test_auc_5_per_labeled_5_unlabeled_smote_m2_exc_balanced_batch_method_6          0.860533\n",
       "train_auc_5_per_labeled_5_unlabeled_smote_m4_exc_balanced_batch_method_6         0.869072\n",
       "validation_auc_5_per_labeled_5_unlabeled_smote_m4_exc_balanced_batch_method_6    0.859542\n",
       "test_auc_5_per_labeled_5_unlabeled_smote_m4_exc_balanced_batch_method_6          0.863582\n",
       "train_auc_5_per_labeled_5_unlabeled_smote_m8_exc_balanced_batch_method_6         0.895748\n",
       "validation_auc_5_per_labeled_5_unlabeled_smote_m8_exc_balanced_batch_method_6    0.863974\n",
       "test_auc_5_per_labeled_5_unlabeled_smote_m8_exc_balanced_batch_method_6          0.869512\n",
       "dtype: float64"
      ]
     },
     "execution_count": 53,
     "metadata": {},
     "output_type": "execute_result"
    }
   ],
   "source": [
    "df_auc_enhanced_model.mean(axis=0)"
   ]
  },
  {
   "cell_type": "code",
   "execution_count": 54,
   "id": "e31ce0d7",
   "metadata": {},
   "outputs": [
    {
     "data": {
      "text/plain": [
       "train_auc_5_per_labeled_5_unlabeled_smote_m1_exc_balanced_batch_method_6         0.155435\n",
       "validation_auc_5_per_labeled_5_unlabeled_smote_m1_exc_balanced_batch_method_6    0.208117\n",
       "test_auc_5_per_labeled_5_unlabeled_smote_m1_exc_balanced_batch_method_6          0.207948\n",
       "train_auc_5_per_labeled_5_unlabeled_smote_m2_exc_balanced_batch_method_6         0.004062\n",
       "validation_auc_5_per_labeled_5_unlabeled_smote_m2_exc_balanced_batch_method_6    0.001457\n",
       "test_auc_5_per_labeled_5_unlabeled_smote_m2_exc_balanced_batch_method_6          0.005652\n",
       "train_auc_5_per_labeled_5_unlabeled_smote_m4_exc_balanced_batch_method_6         0.010161\n",
       "validation_auc_5_per_labeled_5_unlabeled_smote_m4_exc_balanced_batch_method_6    0.001576\n",
       "test_auc_5_per_labeled_5_unlabeled_smote_m4_exc_balanced_batch_method_6          0.002490\n",
       "train_auc_5_per_labeled_5_unlabeled_smote_m8_exc_balanced_batch_method_6         0.006465\n",
       "validation_auc_5_per_labeled_5_unlabeled_smote_m8_exc_balanced_batch_method_6    0.002648\n",
       "test_auc_5_per_labeled_5_unlabeled_smote_m8_exc_balanced_batch_method_6          0.005429\n",
       "dtype: float64"
      ]
     },
     "execution_count": 54,
     "metadata": {},
     "output_type": "execute_result"
    }
   ],
   "source": [
    "df_auc_enhanced_model.std(axis=0)"
   ]
  },
  {
   "cell_type": "code",
   "execution_count": 55,
   "id": "6201bcb4",
   "metadata": {},
   "outputs": [],
   "source": [
    "#paired sample t test\n",
    "#ttest_rel is from SciPy"
   ]
  },
  {
   "cell_type": "code",
   "execution_count": 62,
   "id": "8863f394",
   "metadata": {},
   "outputs": [
    {
     "data": {
      "text/plain": [
       "0    0.863521\n",
       "1    0.874106\n",
       "2    0.870910\n",
       "Name: test_auc_5_per_labeled_5_unlabeled_smote_m8_exc_balanced_batch_method_6, dtype: float64"
      ]
     },
     "execution_count": 62,
     "metadata": {},
     "output_type": "execute_result"
    }
   ],
   "source": [
    "df_auc_enhanced_model['test_auc_5_per_labeled_5_unlabeled_smote_m8_exc_balanced_batch_method_6']"
   ]
  },
  {
   "cell_type": "code",
   "execution_count": 58,
   "id": "54581254",
   "metadata": {},
   "outputs": [
    {
     "name": "stdout",
     "output_type": "stream",
     "text": [
      "WilcoxonResult(statistic=0.0, pvalue=0.25)\n",
      "WilcoxonResult(statistic=1.0, pvalue=0.5)\n",
      "WilcoxonResult(statistic=1.0, pvalue=0.5)\n"
     ]
    }
   ],
   "source": [
    "#define samples\n",
    "group5 = df_auc_enhanced_model['test_auc_5_per_labeled_5_unlabeled_smote_m1_exc_balanced_batch_method_6']\n",
    "group6 = df_auc_enhanced_model['test_auc_5_per_labeled_5_unlabeled_smote_m2_exc_balanced_batch_method_6']\n",
    "group7 = df_auc_enhanced_model['test_auc_5_per_labeled_5_unlabeled_smote_m4_exc_balanced_batch_method_6']\n",
    "group8 = df_auc_enhanced_model['test_auc_5_per_labeled_5_unlabeled_smote_m8_exc_balanced_batch_method_6']\n",
    "\n",
    "# conduct the Wilcoxon-Signed Rank Test\n",
    "print(stats.wilcoxon(group8, group5))\n",
    "print(stats.wilcoxon(group6, group7))\n",
    "print(stats.wilcoxon(group7, group8))"
   ]
  },
  {
   "cell_type": "markdown",
   "id": "630c6ad5",
   "metadata": {},
   "source": [
    "# Other method proprogation/ label spreading/ self learning"
   ]
  },
  {
   "cell_type": "code",
   "execution_count": 63,
   "id": "6dc71ccc",
   "metadata": {},
   "outputs": [
    {
     "name": "stdout",
     "output_type": "stream",
     "text": [
      "WilcoxonResult(statistic=0.0, pvalue=0.25)\n"
     ]
    }
   ],
   "source": [
    "#Test results over 3 runs\n",
    "spreading = [0.832818288249626,0.77281868015471,0.832405103009193]\n",
    "propogation = [0.832,0.7595,0.826]\n",
    "\n",
    "print(stats.wilcoxon(spreading, propogation))"
   ]
  },
  {
   "cell_type": "code",
   "execution_count": null,
   "id": "574bc0f2",
   "metadata": {},
   "outputs": [],
   "source": []
  }
 ],
 "metadata": {
  "kernelspec": {
   "display_name": "Python [conda env:miniforge3-torchenv]",
   "language": "python",
   "name": "conda-env-miniforge3-torchenv-py"
  },
  "language_info": {
   "codemirror_mode": {
    "name": "ipython",
    "version": 3
   },
   "file_extension": ".py",
   "mimetype": "text/x-python",
   "name": "python",
   "nbconvert_exporter": "python",
   "pygments_lexer": "ipython3",
   "version": "3.8.16"
  }
 },
 "nbformat": 4,
 "nbformat_minor": 5
}
