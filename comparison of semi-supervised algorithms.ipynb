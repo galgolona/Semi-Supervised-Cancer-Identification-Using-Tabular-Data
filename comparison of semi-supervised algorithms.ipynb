{
 "cells": [
  {
   "cell_type": "code",
   "execution_count": 1,
   "id": "13e13b85",
   "metadata": {},
   "outputs": [],
   "source": [
    "import numpy as np\n",
    "from sklearn.semi_supervised import LabelSpreading\n",
    "from sklearn.model_selection import train_test_split\n",
    "from sklearn.semi_supervised import LabelPropagation\n",
    "from sklearn.svm import SVC\n",
    "from sklearn.svm import LinearSVC\n",
    "from sklearn.semi_supervised import SelfTrainingClassifier\n",
    "from sklearn.model_selection import train_test_split\n",
    "from sklearn import metrics\n",
    "import os\n",
    "import pandas as pd\n",
    "from sklearn.metrics import average_precision_score"
   ]
  },
  {
   "cell_type": "code",
   "execution_count": 2,
   "id": "22428e5a",
   "metadata": {},
   "outputs": [
    {
     "data": {
      "text/plain": [
       "'/Users/glrz'"
      ]
     },
     "execution_count": 2,
     "metadata": {},
     "output_type": "execute_result"
    }
   ],
   "source": [
    "%pwd"
   ]
  },
  {
   "cell_type": "code",
   "execution_count": 3,
   "id": "9f2eb074",
   "metadata": {},
   "outputs": [],
   "source": [
    "#load dataset"
   ]
  },
  {
   "cell_type": "code",
   "execution_count": 36,
   "id": "cbc55b38",
   "metadata": {},
   "outputs": [],
   "source": [
    "#import file\n",
    "os.chdir(\"/Users/glrz/Desktop/Thesis/src/base\")\n",
    "file_train = \"train_u_with_days.csv\"\n",
    "file_test = \"test_with_days.csv\"\n",
    "train = pd.read_csv(file_train, sep = ',')\n",
    "test = pd.read_csv(file_test, sep = ',')\n",
    "\n",
    "val_size = len(test)\n",
    "\n",
    "train, val = train_test_split(train, test_size = val_size, shuffle = True, random_state=42)\n"
   ]
  },
  {
   "cell_type": "code",
   "execution_count": 37,
   "id": "d5e40806",
   "metadata": {},
   "outputs": [],
   "source": [
    "#undersample train\n",
    "limit = 70000\n",
    "idx_normal = train[train['outcome'] == 0].index\n",
    "permutation = np.random.permutation(limit)\n",
    "train_normal_samples = train.loc[idx_normal[permutation]]\n",
    "train_b = pd.concat([train_normal_samples,train[train['outcome'] == 1]])"
   ]
  },
  {
   "cell_type": "code",
   "execution_count": 38,
   "id": "cab354f2",
   "metadata": {},
   "outputs": [],
   "source": [
    "#oversample test\n",
    "#idx_outlier = train[train['outcome'] == 1].index\n",
    "#train_outlier = train[train['outcome'] == 1]\n",
    "#train_b = pd.concat([train_outlier,train_outlier,train_outlier,train)"
   ]
  },
  {
   "cell_type": "code",
   "execution_count": 39,
   "id": "4689462a",
   "metadata": {},
   "outputs": [],
   "source": [
    "y_train = train_b['outcome']\n",
    "x_train = train_b.drop(['outcome'], axis=1)\n",
    "y_val = val['outcome']\n",
    "x_val = val.drop(['outcome'], axis=1)\n",
    "y_test = test['outcome']\n",
    "x_test = test.drop(['outcome'], axis=1)\n",
    "val_size = len(y_test)\n",
    "\n",
    "semi_labels = y_train.copy()\n",
    "x_train.reset_index(inplace=True, drop=True)\n",
    "y_train.reset_index(inplace=True, drop=True)\n",
    "idx_normal = y_train[y_train == 0].index\n",
    "idx_outlier = y_train[y_train == 1].index"
   ]
  },
  {
   "cell_type": "code",
   "execution_count": 92,
   "id": "8732de3c",
   "metadata": {},
   "outputs": [
    {
     "name": "stdout",
     "output_type": "stream",
     "text": [
      "normal random 35000 random outlier 8338 unlabeled 8338 35000\n"
     ]
    }
   ],
   "source": [
    "#creating 25 labeled, 75 unlabeled train set\n",
    "\n",
    "ratio_known_normal = 0.50\n",
    "ratio_unknown_normal = 0.50\n",
    "ratio_known_outlier = 0.50\n",
    "ratio_unknown_outlier = 0.50\n",
    "\n",
    "n_complete_dataset_normal = len(idx_normal)\n",
    "n_complete_dataset_outlier = len(idx_outlier)\n",
    "n_known_normal = int(n_complete_dataset_normal * ratio_known_normal)\n",
    "n_unlabeled_normal = min(n_complete_dataset_normal - n_known_normal,\n",
    "                             round(ratio_unknown_normal * n_complete_dataset_normal))\n",
    "n_known_outlier = round(ratio_known_outlier * n_complete_dataset_outlier)\n",
    "n_unlabeled_outlier = min(n_complete_dataset_outlier - n_known_outlier,\n",
    "                              round(ratio_unknown_outlier * n_complete_dataset_outlier))\n",
    "# using permutation to randomly assign between groups\n",
    "perm_normal = np.random.permutation(n_complete_dataset_normal)\n",
    "perm_known_outlier = np.random.permutation(n_complete_dataset_outlier)\n",
    "# define the unlabeled indices to return\n",
    "idx_known_outlier = idx_outlier[\n",
    "        perm_known_outlier[: n_known_outlier]].tolist()\n",
    "idx_known_normal = idx_normal[perm_normal[: n_known_normal]].tolist()\n",
    "idx_unlabeled_outlier = idx_outlier[\n",
    "    perm_known_outlier[n_known_outlier: n_known_outlier + n_unlabeled_outlier]].tolist()\n",
    "idx_unlabeled_normal = idx_normal[perm_normal[n_known_normal: n_known_normal + n_unlabeled_normal]].tolist()\n",
    "\n",
    "print('normal random', len(idx_known_normal), 'random outlier', len(idx_known_outlier), 'unlabeled',\n",
    "          len(idx_unlabeled_outlier), len(idx_unlabeled_normal))\n",
    "\n",
    "data = {'idx_known_outlier': idx_known_outlier,\n",
    "        'idx_known_normal': idx_known_normal,\n",
    "        'idx_unlabeled_outlier': idx_unlabeled_outlier,\n",
    "        'idx_unlabeled_normal': idx_unlabeled_normal}\n",
    "\n",
    "index_df = pd.DataFrame(dict([(k, pd.Series(v)) for k, v in data.items()]))"
   ]
  },
  {
   "cell_type": "code",
   "execution_count": 93,
   "id": "78081aaa",
   "metadata": {},
   "outputs": [],
   "source": [
    "#save experiments\n",
    "#index_df.to_csv('index_df_experiment_1.csv')\n",
    "#df_train.to_csv('train_df_experiment_1.csv')\n",
    "#df_validation.to_csv('validation_df_experiment_1.csv')"
   ]
  },
  {
   "cell_type": "code",
   "execution_count": 94,
   "id": "9cdce59e",
   "metadata": {},
   "outputs": [],
   "source": [
    "#loading experiments data\n",
    "#for iteration_num in {1..10}\n",
    "#iteration_num=1\n",
    "#do\n",
    "    #echo \"Itration $i\"\n",
    "#index_experiment = pd.read_csv(f'index_df_experiment_{iteration_num}.csv')\n",
    "\n",
    "#idx_known_outlier = index_experiment['known_outlier'].dropna().astype(int)\n",
    "#idx_unlabeled_outlier = index_experiment['unlabeled_outlier'].dropna().astype(int)\n",
    "#idx_known_normal = index_experiment['known_normal'].dropna().astype(int)\n",
    "#idx_unlabeled_normal = index_experiment['unlabeled_normal'].dropna().astype(int)"
   ]
  },
  {
   "cell_type": "code",
   "execution_count": 95,
   "id": "04e2a1c0",
   "metadata": {},
   "outputs": [],
   "source": [
    "experiment_name = \"25_per_labeled_75_unlabeled\"\n",
    "#the auc of my model is ~88 for this case"
   ]
  },
  {
   "cell_type": "code",
   "execution_count": 96,
   "id": "d3530e9a",
   "metadata": {},
   "outputs": [
    {
     "data": {
      "text/plain": [
       "Int64Index([75729, 82502, 70549, 84145, 76542, 74245, 81421, 79503, 73058,\n",
       "            75888,\n",
       "            ...\n",
       "            81190, 81102, 84881, 86398, 71594, 86221, 82152, 78804, 78899,\n",
       "            77926],\n",
       "           dtype='int64', length=8338)"
      ]
     },
     "execution_count": 96,
     "metadata": {},
     "output_type": "execute_result"
    }
   ],
   "source": [
    "y_train.index[idx_unlabeled_outlier]"
   ]
  },
  {
   "cell_type": "code",
   "execution_count": 97,
   "id": "aad597aa",
   "metadata": {},
   "outputs": [],
   "source": [
    "#label propagation/ spreading methods\n",
    "semi_labels.loc[semi_labels.index[idx_unlabeled_outlier]] = -1\n",
    "semi_labels.loc[semi_labels.index[idx_unlabeled_normal]] = -1"
   ]
  },
  {
   "cell_type": "code",
   "execution_count": 98,
   "id": "cfc7cfcc",
   "metadata": {},
   "outputs": [],
   "source": [
    "#label propagation params\n",
    "kernel= ['rbf','knn']\n",
    "gamma= [5,20,50]\n",
    "n_neighbors=[3,7,14,20]\n",
    "max_iter=[1000,5000]\n",
    "\n",
    "#label spreading param\n",
    "alpha = [0.2,0.5,0.7]"
   ]
  },
  {
   "cell_type": "code",
   "execution_count": 99,
   "id": "9eaa12e6",
   "metadata": {},
   "outputs": [],
   "source": [
    "methods = ['propagation','spreading','self_learning_svc']\n",
    "chosen_method = methods[1]"
   ]
  },
  {
   "cell_type": "code",
   "execution_count": 100,
   "id": "5f5eedab",
   "metadata": {},
   "outputs": [],
   "source": [
    "#with the best chosen params based on validation set:\n",
    "if chosen_method=='propagation':\n",
    "    label_prop_model = LabelPropagation(kernel = kernel[1], n_neighbors= n_neighbors[3], max_iter=max_iter[1])\n",
    "    label_prop_model.fit(x_train, semi_labels)\n",
    "\n",
    "#print(\"pred done\", pred[:5])\n"
   ]
  },
  {
   "cell_type": "code",
   "execution_count": 101,
   "id": "f61d3714",
   "metadata": {},
   "outputs": [],
   "source": [
    "#labelspreading method\n",
    "if chosen_method=='spreading':\n",
    "    label_prop_model = LabelSpreading(kernel = kernel[1], n_neighbors= n_neighbors[3], max_iter=max_iter[0], alpha=alpha[0])\n",
    "    label_prop_model.fit(x_train, semi_labels)"
   ]
  },
  {
   "cell_type": "code",
   "execution_count": 102,
   "id": "ab3933c7",
   "metadata": {},
   "outputs": [
    {
     "name": "stderr",
     "output_type": "stream",
     "text": [
      "/Users/glrz/miniforge3/envs/torchenv/lib/python3.8/site-packages/sklearn/semi_supervised/_label_propagation.py:231: RuntimeWarning: invalid value encountered in divide\n",
      "  probabilities /= normalizer\n",
      "/Users/glrz/miniforge3/envs/torchenv/lib/python3.8/site-packages/sklearn/semi_supervised/_label_propagation.py:231: RuntimeWarning: invalid value encountered in divide\n",
      "  probabilities /= normalizer\n",
      "/Users/glrz/miniforge3/envs/torchenv/lib/python3.8/site-packages/sklearn/semi_supervised/_label_propagation.py:231: RuntimeWarning: invalid value encountered in divide\n",
      "  probabilities /= normalizer\n"
     ]
    }
   ],
   "source": [
    "#compute metrics\n",
    "y_train_score = label_prop_model.predict_proba(x_train)\n",
    "y_val_score = label_prop_model.predict_proba(x_val)\n",
    "y_test_score = label_prop_model.predict_proba(x_test)"
   ]
  },
  {
   "cell_type": "code",
   "execution_count": 103,
   "id": "d900a58b",
   "metadata": {},
   "outputs": [],
   "source": [
    "y_train_m = pd.concat([pd.Series(y_train), pd.Series(y_train_score[:,1])], axis=1)\n",
    "y_train_m = y_train_m.rename(columns={0:'y_pred_score'})\n",
    "y_train_m = y_train_m.dropna()"
   ]
  },
  {
   "cell_type": "code",
   "execution_count": 104,
   "id": "760dd295",
   "metadata": {},
   "outputs": [],
   "source": [
    "y_val_m = pd.concat([pd.Series(y_val), pd.Series(y_val_score[:,1])], axis=1)\n",
    "y_val_m = y_val_m.rename(columns={0:'y_pred_score'})\n",
    "y_val_m = y_val_m.dropna()\n",
    "y_test_m = pd.concat([pd.Series(y_test), pd.Series(y_test_score[:,1])], axis=1)\n",
    "y_test_m = y_test_m.rename(columns={0:'y_pred_score'})\n",
    "y_test_m = y_test_m.dropna()"
   ]
  },
  {
   "cell_type": "code",
   "execution_count": 105,
   "id": "fa8c17cc",
   "metadata": {},
   "outputs": [
    {
     "data": {
      "text/plain": [
       "0    52759\n",
       "1     3572\n",
       "Name: outcome, dtype: int64"
      ]
     },
     "execution_count": 105,
     "metadata": {},
     "output_type": "execute_result"
    }
   ],
   "source": [
    "y_test_m['outcome'].value_counts()"
   ]
  },
  {
   "cell_type": "code",
   "execution_count": 106,
   "id": "15266299",
   "metadata": {
    "scrolled": true
   },
   "outputs": [
    {
     "name": "stdout",
     "output_type": "stream",
     "text": [
      "propagation train auc 0.8169765851027604\n"
     ]
    },
    {
     "ename": "ValueError",
     "evalue": "Input contains NaN.",
     "output_type": "error",
     "traceback": [
      "\u001b[0;31m---------------------------------------------------------------------------\u001b[0m",
      "\u001b[0;31mValueError\u001b[0m                                Traceback (most recent call last)",
      "Cell \u001b[0;32mIn[106], line 2\u001b[0m\n\u001b[1;32m      1\u001b[0m \u001b[38;5;28mprint\u001b[39m(\u001b[38;5;124m'\u001b[39m\u001b[38;5;124mpropagation train auc\u001b[39m\u001b[38;5;124m'\u001b[39m, metrics\u001b[38;5;241m.\u001b[39mroc_auc_score(np\u001b[38;5;241m.\u001b[39marray(y_train_m[\u001b[38;5;124m'\u001b[39m\u001b[38;5;124moutcome\u001b[39m\u001b[38;5;124m'\u001b[39m])\u001b[38;5;241m.\u001b[39mastype(\u001b[38;5;28mint\u001b[39m), np\u001b[38;5;241m.\u001b[39marray(y_train_m[\u001b[38;5;124m'\u001b[39m\u001b[38;5;124my_pred_score\u001b[39m\u001b[38;5;124m'\u001b[39m])))\n\u001b[0;32m----> 2\u001b[0m \u001b[38;5;28mprint\u001b[39m(\u001b[38;5;124m'\u001b[39m\u001b[38;5;124mpropagation val auc\u001b[39m\u001b[38;5;124m'\u001b[39m, \u001b[43mmetrics\u001b[49m\u001b[38;5;241;43m.\u001b[39;49m\u001b[43mroc_auc_score\u001b[49m\u001b[43m(\u001b[49m\u001b[43my_val\u001b[49m\u001b[43m,\u001b[49m\u001b[43m \u001b[49m\u001b[43my_val_score\u001b[49m\u001b[43m[\u001b[49m\u001b[43m:\u001b[49m\u001b[43m,\u001b[49m\u001b[38;5;241;43m1\u001b[39;49m\u001b[43m]\u001b[49m\u001b[43m)\u001b[49m)\n\u001b[1;32m      3\u001b[0m \u001b[38;5;28mprint\u001b[39m(\u001b[38;5;124m'\u001b[39m\u001b[38;5;124mpropagation test auc\u001b[39m\u001b[38;5;124m'\u001b[39m, metrics\u001b[38;5;241m.\u001b[39mroc_auc_score(np\u001b[38;5;241m.\u001b[39marray(y_test_m[\u001b[38;5;124m'\u001b[39m\u001b[38;5;124moutcome\u001b[39m\u001b[38;5;124m'\u001b[39m])\u001b[38;5;241m.\u001b[39mastype(\u001b[38;5;28mint\u001b[39m), np\u001b[38;5;241m.\u001b[39marray(y_test_m[\u001b[38;5;124m'\u001b[39m\u001b[38;5;124my_pred_score\u001b[39m\u001b[38;5;124m'\u001b[39m])))\n",
      "File \u001b[0;32m~/miniforge3/envs/torchenv/lib/python3.8/site-packages/sklearn/metrics/_ranking.py:551\u001b[0m, in \u001b[0;36mroc_auc_score\u001b[0;34m(y_true, y_score, average, sample_weight, max_fpr, multi_class, labels)\u001b[0m\n\u001b[1;32m    549\u001b[0m y_type \u001b[38;5;241m=\u001b[39m type_of_target(y_true, input_name\u001b[38;5;241m=\u001b[39m\u001b[38;5;124m\"\u001b[39m\u001b[38;5;124my_true\u001b[39m\u001b[38;5;124m\"\u001b[39m)\n\u001b[1;32m    550\u001b[0m y_true \u001b[38;5;241m=\u001b[39m check_array(y_true, ensure_2d\u001b[38;5;241m=\u001b[39m\u001b[38;5;28;01mFalse\u001b[39;00m, dtype\u001b[38;5;241m=\u001b[39m\u001b[38;5;28;01mNone\u001b[39;00m)\n\u001b[0;32m--> 551\u001b[0m y_score \u001b[38;5;241m=\u001b[39m \u001b[43mcheck_array\u001b[49m\u001b[43m(\u001b[49m\u001b[43my_score\u001b[49m\u001b[43m,\u001b[49m\u001b[43m \u001b[49m\u001b[43mensure_2d\u001b[49m\u001b[38;5;241;43m=\u001b[39;49m\u001b[38;5;28;43;01mFalse\u001b[39;49;00m\u001b[43m)\u001b[49m\n\u001b[1;32m    553\u001b[0m \u001b[38;5;28;01mif\u001b[39;00m y_type \u001b[38;5;241m==\u001b[39m \u001b[38;5;124m\"\u001b[39m\u001b[38;5;124mmulticlass\u001b[39m\u001b[38;5;124m\"\u001b[39m \u001b[38;5;129;01mor\u001b[39;00m (\n\u001b[1;32m    554\u001b[0m     y_type \u001b[38;5;241m==\u001b[39m \u001b[38;5;124m\"\u001b[39m\u001b[38;5;124mbinary\u001b[39m\u001b[38;5;124m\"\u001b[39m \u001b[38;5;129;01mand\u001b[39;00m y_score\u001b[38;5;241m.\u001b[39mndim \u001b[38;5;241m==\u001b[39m \u001b[38;5;241m2\u001b[39m \u001b[38;5;129;01mand\u001b[39;00m y_score\u001b[38;5;241m.\u001b[39mshape[\u001b[38;5;241m1\u001b[39m] \u001b[38;5;241m>\u001b[39m \u001b[38;5;241m2\u001b[39m\n\u001b[1;32m    555\u001b[0m ):\n\u001b[1;32m    556\u001b[0m     \u001b[38;5;66;03m# do not support partial ROC computation for multiclass\u001b[39;00m\n\u001b[1;32m    557\u001b[0m     \u001b[38;5;28;01mif\u001b[39;00m max_fpr \u001b[38;5;129;01mis\u001b[39;00m \u001b[38;5;129;01mnot\u001b[39;00m \u001b[38;5;28;01mNone\u001b[39;00m \u001b[38;5;129;01mand\u001b[39;00m max_fpr \u001b[38;5;241m!=\u001b[39m \u001b[38;5;241m1.0\u001b[39m:\n",
      "File \u001b[0;32m~/miniforge3/envs/torchenv/lib/python3.8/site-packages/sklearn/utils/validation.py:921\u001b[0m, in \u001b[0;36mcheck_array\u001b[0;34m(array, accept_sparse, accept_large_sparse, dtype, order, copy, force_all_finite, ensure_2d, allow_nd, ensure_min_samples, ensure_min_features, estimator, input_name)\u001b[0m\n\u001b[1;32m    915\u001b[0m         \u001b[38;5;28;01mraise\u001b[39;00m \u001b[38;5;167;01mValueError\u001b[39;00m(\n\u001b[1;32m    916\u001b[0m             \u001b[38;5;124m\"\u001b[39m\u001b[38;5;124mFound array with dim \u001b[39m\u001b[38;5;132;01m%d\u001b[39;00m\u001b[38;5;124m. \u001b[39m\u001b[38;5;132;01m%s\u001b[39;00m\u001b[38;5;124m expected <= 2.\u001b[39m\u001b[38;5;124m\"\u001b[39m\n\u001b[1;32m    917\u001b[0m             \u001b[38;5;241m%\u001b[39m (array\u001b[38;5;241m.\u001b[39mndim, estimator_name)\n\u001b[1;32m    918\u001b[0m         )\n\u001b[1;32m    920\u001b[0m     \u001b[38;5;28;01mif\u001b[39;00m force_all_finite:\n\u001b[0;32m--> 921\u001b[0m         \u001b[43m_assert_all_finite\u001b[49m\u001b[43m(\u001b[49m\n\u001b[1;32m    922\u001b[0m \u001b[43m            \u001b[49m\u001b[43marray\u001b[49m\u001b[43m,\u001b[49m\n\u001b[1;32m    923\u001b[0m \u001b[43m            \u001b[49m\u001b[43minput_name\u001b[49m\u001b[38;5;241;43m=\u001b[39;49m\u001b[43minput_name\u001b[49m\u001b[43m,\u001b[49m\n\u001b[1;32m    924\u001b[0m \u001b[43m            \u001b[49m\u001b[43mestimator_name\u001b[49m\u001b[38;5;241;43m=\u001b[39;49m\u001b[43mestimator_name\u001b[49m\u001b[43m,\u001b[49m\n\u001b[1;32m    925\u001b[0m \u001b[43m            \u001b[49m\u001b[43mallow_nan\u001b[49m\u001b[38;5;241;43m=\u001b[39;49m\u001b[43mforce_all_finite\u001b[49m\u001b[43m \u001b[49m\u001b[38;5;241;43m==\u001b[39;49m\u001b[43m \u001b[49m\u001b[38;5;124;43m\"\u001b[39;49m\u001b[38;5;124;43mallow-nan\u001b[39;49m\u001b[38;5;124;43m\"\u001b[39;49m\u001b[43m,\u001b[49m\n\u001b[1;32m    926\u001b[0m \u001b[43m        \u001b[49m\u001b[43m)\u001b[49m\n\u001b[1;32m    928\u001b[0m \u001b[38;5;28;01mif\u001b[39;00m ensure_min_samples \u001b[38;5;241m>\u001b[39m \u001b[38;5;241m0\u001b[39m:\n\u001b[1;32m    929\u001b[0m     n_samples \u001b[38;5;241m=\u001b[39m _num_samples(array)\n",
      "File \u001b[0;32m~/miniforge3/envs/torchenv/lib/python3.8/site-packages/sklearn/utils/validation.py:161\u001b[0m, in \u001b[0;36m_assert_all_finite\u001b[0;34m(X, allow_nan, msg_dtype, estimator_name, input_name)\u001b[0m\n\u001b[1;32m    144\u001b[0m \u001b[38;5;28;01mif\u001b[39;00m estimator_name \u001b[38;5;129;01mand\u001b[39;00m input_name \u001b[38;5;241m==\u001b[39m \u001b[38;5;124m\"\u001b[39m\u001b[38;5;124mX\u001b[39m\u001b[38;5;124m\"\u001b[39m \u001b[38;5;129;01mand\u001b[39;00m has_nan_error:\n\u001b[1;32m    145\u001b[0m     \u001b[38;5;66;03m# Improve the error message on how to handle missing values in\u001b[39;00m\n\u001b[1;32m    146\u001b[0m     \u001b[38;5;66;03m# scikit-learn.\u001b[39;00m\n\u001b[1;32m    147\u001b[0m     msg_err \u001b[38;5;241m+\u001b[39m\u001b[38;5;241m=\u001b[39m (\n\u001b[1;32m    148\u001b[0m         \u001b[38;5;124mf\u001b[39m\u001b[38;5;124m\"\u001b[39m\u001b[38;5;130;01m\\n\u001b[39;00m\u001b[38;5;132;01m{\u001b[39;00mestimator_name\u001b[38;5;132;01m}\u001b[39;00m\u001b[38;5;124m does not accept missing values\u001b[39m\u001b[38;5;124m\"\u001b[39m\n\u001b[1;32m    149\u001b[0m         \u001b[38;5;124m\"\u001b[39m\u001b[38;5;124m encoded as NaN natively. For supervised learning, you might want\u001b[39m\u001b[38;5;124m\"\u001b[39m\n\u001b[0;32m   (...)\u001b[0m\n\u001b[1;32m    159\u001b[0m         \u001b[38;5;124m\"\u001b[39m\u001b[38;5;124m#estimators-that-handle-nan-values\u001b[39m\u001b[38;5;124m\"\u001b[39m\n\u001b[1;32m    160\u001b[0m     )\n\u001b[0;32m--> 161\u001b[0m \u001b[38;5;28;01mraise\u001b[39;00m \u001b[38;5;167;01mValueError\u001b[39;00m(msg_err)\n",
      "\u001b[0;31mValueError\u001b[0m: Input contains NaN."
     ]
    }
   ],
   "source": [
    "print('propagation train auc', metrics.roc_auc_score(np.array(y_train_m['outcome']).astype(int), np.array(y_train_m['y_pred_score'])))\n",
    "print('propagation val auc', metrics.roc_auc_score(y_val, y_val_score[:,1]))\n",
    "print('propagation test auc', metrics.roc_auc_score(np.array(y_test_m['outcome']).astype(int), np.array(y_test_m['y_pred_score'])))"
   ]
  },
  {
   "cell_type": "code",
   "execution_count": null,
   "id": "b9bb8cb0",
   "metadata": {},
   "outputs": [],
   "source": [
    "y_train_predict = label_prop_model.predict(x_train)\n",
    "y_val_predict = label_prop_model.predict(x_val)\n",
    "y_test_predict = label_prop_model.predict(x_test)"
   ]
  },
  {
   "cell_type": "code",
   "execution_count": null,
   "id": "4623e741",
   "metadata": {},
   "outputs": [],
   "source": [
    "y_train_p = pd.concat([pd.Series(y_train), pd.Series(y_train_predict)], axis=1)\n",
    "y_train_p = y_train_p.rename(columns={0:'y_pred_score'})\n",
    "y_train_p = y_train_p.dropna()\n",
    "y_val_p = pd.concat([pd.Series(y_val), pd.Series(y_val_predict)], axis=1)\n",
    "y_val_p = y_val_p.rename(columns={0:'y_pred_score'})\n",
    "y_val_p = y_val_p.dropna()\n",
    "y_test_p = pd.concat([pd.Series(y_test), pd.Series(y_test_predict)], axis=1)\n",
    "y_test_p = y_test_p.rename(columns={0:'y_pred_score'})\n",
    "y_test_p = y_test_p.dropna()"
   ]
  },
  {
   "cell_type": "code",
   "execution_count": null,
   "id": "8b7f1f22",
   "metadata": {},
   "outputs": [],
   "source": [
    "print('propagation train f1', metrics.f1_score(np.array(y_train_p['outcome']).astype(int), np.array(y_train_p['y_pred_score'])))\n",
    "print('propagation val f1', metrics.f1_score(y_val, y_val_predict))\n",
    "print('propagation test f1', metrics.f1_score(np.array(y_test_p['outcome']).astype(int), np.array(y_test_p['y_pred_score'])))\n",
    "    "
   ]
  },
  {
   "cell_type": "code",
   "execution_count": null,
   "id": "8d780a71",
   "metadata": {},
   "outputs": [],
   "source": [
    "print('propagation train aps', metrics.average_precision_score(np.array(y_train_p['outcome']).astype(int), np.array(y_train_p['y_pred_score'])))\n",
    "print('propagation val aps', metrics.average_precision_score(y_val, y_val_predict))\n",
    "print('propagation test aps', metrics.average_precision_score(y_test, y_test_predict))"
   ]
  },
  {
   "cell_type": "code",
   "execution_count": null,
   "id": "be111e0a",
   "metadata": {},
   "outputs": [],
   "source": [
    "#self learning svc params\n",
    "kernel = [\"rbf\",\"Nystroem\"]\n",
    "gamma = [0.2,0.5,0.7]\n"
   ]
  },
  {
   "cell_type": "code",
   "execution_count": 30,
   "id": "89914555",
   "metadata": {},
   "outputs": [
    {
     "data": {
      "text/html": [
       "<style>#sk-container-id-2 {color: black;background-color: white;}#sk-container-id-2 pre{padding: 0;}#sk-container-id-2 div.sk-toggleable {background-color: white;}#sk-container-id-2 label.sk-toggleable__label {cursor: pointer;display: block;width: 100%;margin-bottom: 0;padding: 0.3em;box-sizing: border-box;text-align: center;}#sk-container-id-2 label.sk-toggleable__label-arrow:before {content: \"▸\";float: left;margin-right: 0.25em;color: #696969;}#sk-container-id-2 label.sk-toggleable__label-arrow:hover:before {color: black;}#sk-container-id-2 div.sk-estimator:hover label.sk-toggleable__label-arrow:before {color: black;}#sk-container-id-2 div.sk-toggleable__content {max-height: 0;max-width: 0;overflow: hidden;text-align: left;background-color: #f0f8ff;}#sk-container-id-2 div.sk-toggleable__content pre {margin: 0.2em;color: black;border-radius: 0.25em;background-color: #f0f8ff;}#sk-container-id-2 input.sk-toggleable__control:checked~div.sk-toggleable__content {max-height: 200px;max-width: 100%;overflow: auto;}#sk-container-id-2 input.sk-toggleable__control:checked~label.sk-toggleable__label-arrow:before {content: \"▾\";}#sk-container-id-2 div.sk-estimator input.sk-toggleable__control:checked~label.sk-toggleable__label {background-color: #d4ebff;}#sk-container-id-2 div.sk-label input.sk-toggleable__control:checked~label.sk-toggleable__label {background-color: #d4ebff;}#sk-container-id-2 input.sk-hidden--visually {border: 0;clip: rect(1px 1px 1px 1px);clip: rect(1px, 1px, 1px, 1px);height: 1px;margin: -1px;overflow: hidden;padding: 0;position: absolute;width: 1px;}#sk-container-id-2 div.sk-estimator {font-family: monospace;background-color: #f0f8ff;border: 1px dotted black;border-radius: 0.25em;box-sizing: border-box;margin-bottom: 0.5em;}#sk-container-id-2 div.sk-estimator:hover {background-color: #d4ebff;}#sk-container-id-2 div.sk-parallel-item::after {content: \"\";width: 100%;border-bottom: 1px solid gray;flex-grow: 1;}#sk-container-id-2 div.sk-label:hover label.sk-toggleable__label {background-color: #d4ebff;}#sk-container-id-2 div.sk-serial::before {content: \"\";position: absolute;border-left: 1px solid gray;box-sizing: border-box;top: 0;bottom: 0;left: 50%;z-index: 0;}#sk-container-id-2 div.sk-serial {display: flex;flex-direction: column;align-items: center;background-color: white;padding-right: 0.2em;padding-left: 0.2em;position: relative;}#sk-container-id-2 div.sk-item {position: relative;z-index: 1;}#sk-container-id-2 div.sk-parallel {display: flex;align-items: stretch;justify-content: center;background-color: white;position: relative;}#sk-container-id-2 div.sk-item::before, #sk-container-id-2 div.sk-parallel-item::before {content: \"\";position: absolute;border-left: 1px solid gray;box-sizing: border-box;top: 0;bottom: 0;left: 50%;z-index: -1;}#sk-container-id-2 div.sk-parallel-item {display: flex;flex-direction: column;z-index: 1;position: relative;background-color: white;}#sk-container-id-2 div.sk-parallel-item:first-child::after {align-self: flex-end;width: 50%;}#sk-container-id-2 div.sk-parallel-item:last-child::after {align-self: flex-start;width: 50%;}#sk-container-id-2 div.sk-parallel-item:only-child::after {width: 0;}#sk-container-id-2 div.sk-dashed-wrapped {border: 1px dashed gray;margin: 0 0.4em 0.5em 0.4em;box-sizing: border-box;padding-bottom: 0.4em;background-color: white;}#sk-container-id-2 div.sk-label label {font-family: monospace;font-weight: bold;display: inline-block;line-height: 1.2em;}#sk-container-id-2 div.sk-label-container {text-align: center;}#sk-container-id-2 div.sk-container {/* jupyter's `normalize.less` sets `[hidden] { display: none; }` but bootstrap.min.css set `[hidden] { display: none !important; }` so we also need the `!important` here to be able to override the default hidden behavior on the sphinx rendered scikit-learn.org. See: https://github.com/scikit-learn/scikit-learn/issues/21755 */display: inline-block !important;position: relative;}#sk-container-id-2 div.sk-text-repr-fallback {display: none;}</style><div id=\"sk-container-id-2\" class=\"sk-top-container\"><div class=\"sk-text-repr-fallback\"><pre>SelfTrainingClassifier(base_estimator=SVC(probability=True))</pre><b>In a Jupyter environment, please rerun this cell to show the HTML representation or trust the notebook. <br />On GitHub, the HTML representation is unable to render, please try loading this page with nbviewer.org.</b></div><div class=\"sk-container\" hidden><div class=\"sk-item sk-dashed-wrapped\"><div class=\"sk-label-container\"><div class=\"sk-label sk-toggleable\"><input class=\"sk-toggleable__control sk-hidden--visually\" id=\"sk-estimator-id-4\" type=\"checkbox\" ><label for=\"sk-estimator-id-4\" class=\"sk-toggleable__label sk-toggleable__label-arrow\">SelfTrainingClassifier</label><div class=\"sk-toggleable__content\"><pre>SelfTrainingClassifier(base_estimator=SVC(probability=True))</pre></div></div></div><div class=\"sk-parallel\"><div class=\"sk-parallel-item\"><div class=\"sk-item\"><div class=\"sk-label-container\"><div class=\"sk-label sk-toggleable\"><input class=\"sk-toggleable__control sk-hidden--visually\" id=\"sk-estimator-id-5\" type=\"checkbox\" ><label for=\"sk-estimator-id-5\" class=\"sk-toggleable__label sk-toggleable__label-arrow\">base_estimator: SVC</label><div class=\"sk-toggleable__content\"><pre>SVC(probability=True)</pre></div></div></div><div class=\"sk-serial\"><div class=\"sk-item\"><div class=\"sk-estimator sk-toggleable\"><input class=\"sk-toggleable__control sk-hidden--visually\" id=\"sk-estimator-id-6\" type=\"checkbox\" ><label for=\"sk-estimator-id-6\" class=\"sk-toggleable__label sk-toggleable__label-arrow\">SVC</label><div class=\"sk-toggleable__content\"><pre>SVC(probability=True)</pre></div></div></div></div></div></div></div></div></div></div>"
      ],
      "text/plain": [
       "SelfTrainingClassifier(base_estimator=SVC(probability=True))"
      ]
     },
     "execution_count": 30,
     "metadata": {},
     "output_type": "execute_result"
    }
   ],
   "source": [
    "#svc self learning\n",
    "base_classifier = SVC(probability=True)\n",
    "self_model = SelfTrainingClassifier(base_classifier)\n",
    "self_model.fit(x_train, semi_labels)"
   ]
  },
  {
   "cell_type": "code",
   "execution_count": 31,
   "id": "a8813306",
   "metadata": {},
   "outputs": [],
   "source": [
    "y_train_score = self_model.predict_proba(x_train)\n",
    "y_val_score = self_model.predict_proba(x_val)\n",
    "y_test_score = self_model.predict_proba(x_test)"
   ]
  },
  {
   "cell_type": "code",
   "execution_count": 32,
   "id": "8eeb139a",
   "metadata": {
    "scrolled": true
   },
   "outputs": [
    {
     "name": "stdout",
     "output_type": "stream",
     "text": [
      "self svc train auc 0.8688660243120997\n",
      "self svc val auc 0.8624507108598197\n",
      "self svc test auc 0.8657954706403773\n"
     ]
    }
   ],
   "source": [
    "print('self svc train auc', metrics.roc_auc_score(y_train, y_train_score[:,1]))\n",
    "print('self svc val auc', metrics.roc_auc_score(y_val, y_val_score[:,1]))\n",
    "print('self svc test auc', metrics.roc_auc_score(y_test, y_test_score[:,1]))"
   ]
  },
  {
   "cell_type": "code",
   "execution_count": 33,
   "id": "be3218b0",
   "metadata": {},
   "outputs": [],
   "source": [
    "y_train_predict = self_model.predict(x_train)\n",
    "y_val_predict = self_model.predict(x_val)\n",
    "y_test_predict = self_model.predict(x_test)"
   ]
  },
  {
   "cell_type": "code",
   "execution_count": 34,
   "id": "8d1091df",
   "metadata": {},
   "outputs": [
    {
     "name": "stdout",
     "output_type": "stream",
     "text": [
      "svc train f1 0.5942577342532829\n",
      "svc val f1 0.49335644136337375\n",
      "svc test f1 0.49347295940324204\n"
     ]
    }
   ],
   "source": [
    "print('svc train f1', metrics.f1_score(y_train, y_train_predict))\n",
    "print('svc val f1', metrics.f1_score(y_val, y_val_predict))\n",
    "print('svc test f1', metrics.f1_score(y_test, y_test_predict))"
   ]
  },
  {
   "cell_type": "code",
   "execution_count": 35,
   "id": "4bcf429c",
   "metadata": {},
   "outputs": [
    {
     "name": "stdout",
     "output_type": "stream",
     "text": [
      "svc train aps 0.47417444330893055\n",
      "svc val aps 0.2764635386309112\n",
      "svc test aps 0.2765333983126842\n"
     ]
    }
   ],
   "source": [
    "print('svc train aps', metrics.average_precision_score(y_train, y_train_predict))\n",
    "print('svc val aps', metrics.average_precision_score(y_val, y_val_predict))\n",
    "print('svc test aps', metrics.average_precision_score(y_test, y_test_predict))"
   ]
  },
  {
   "cell_type": "code",
   "execution_count": null,
   "id": "c00295c9",
   "metadata": {},
   "outputs": [],
   "source": []
  },
  {
   "cell_type": "code",
   "execution_count": 48,
   "id": "92e9327d",
   "metadata": {},
   "outputs": [
    {
     "data": {
      "text/plain": [
       "days                262941\n",
       "tshresult           262941\n",
       "ft3result           262941\n",
       "ft4result           262941\n",
       "tt3result           262941\n",
       "tt4result           262941\n",
       "age                 262941\n",
       "hypertension        262941\n",
       "dyslipidemia        262941\n",
       "diabetes            262941\n",
       "IHD                 262941\n",
       "CHF                 262941\n",
       "CVA_TIA             262941\n",
       "CRF                 262941\n",
       "chroniclung         262941\n",
       "chronicliver        262941\n",
       "BMI                 262941\n",
       "hyperthyroid        262941\n",
       "hyperdays           262941\n",
       "hypothyroid         262941\n",
       "hypodays            262941\n",
       "autoanti            262941\n",
       "autoantidays        262941\n",
       "hyperdrugdays       262941\n",
       "hyperdrugcnt        262941\n",
       "hypodrugdays        262941\n",
       "hypodrugcnt         262941\n",
       "smokingdays         262941\n",
       "SES                 262941\n",
       "hypodrug_flag       262941\n",
       "hyperdrug_flag      262941\n",
       "ft3_flag            262941\n",
       "ft4_flag            262941\n",
       "tt3_flag            262941\n",
       "tt4_flag            262941\n",
       "is_female           262941\n",
       "is_smoking          262941\n",
       "is_former_smoker    262941\n",
       "is_jewish           262941\n",
       "is_muslim           262941\n",
       "dtype: int64"
      ]
     },
     "execution_count": 48,
     "metadata": {},
     "output_type": "execute_result"
    }
   ],
   "source": [
    "x_train.count()"
   ]
  },
  {
   "cell_type": "code",
   "execution_count": null,
   "id": "05eb5982",
   "metadata": {},
   "outputs": [],
   "source": [
    "# self training\n",
    "#https://scikit-learn.org/stable/modules/generated/sklearn.semi_supervised.SelfTrainingClassifier.html#sklearn.semi_supervised.SelfTrainingClassifier"
   ]
  },
  {
   "cell_type": "code",
   "execution_count": null,
   "id": "fe422653",
   "metadata": {},
   "outputs": [],
   "source": [
    "iris.target[random_unlabeled_points] = -1\n",
    "svc = SVC(probability=True, gamma=\"auto\")\n",
    "self_training_model = SelfTrainingClassifier(svc)\n",
    "self_training_model.fit(iris.data, iris.target)"
   ]
  }
 ],
 "metadata": {
  "kernelspec": {
   "display_name": "Python [conda env:miniforge3-torchenv]",
   "language": "python",
   "name": "conda-env-miniforge3-torchenv-py"
  },
  "language_info": {
   "codemirror_mode": {
    "name": "ipython",
    "version": 3
   },
   "file_extension": ".py",
   "mimetype": "text/x-python",
   "name": "python",
   "nbconvert_exporter": "python",
   "pygments_lexer": "ipython3",
   "version": "3.8.16"
  }
 },
 "nbformat": 4,
 "nbformat_minor": 5
}
